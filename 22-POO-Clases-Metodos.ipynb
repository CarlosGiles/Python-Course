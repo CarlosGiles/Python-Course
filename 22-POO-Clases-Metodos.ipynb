{
 "cells": [
  {
   "cell_type": "markdown",
   "id": "9f9b154f",
   "metadata": {},
   "source": [
    "# 🧱 Programación Orientada a Objetos en Python\n",
    "\n",
    "**Temas**: Clases – Instancias – Métodos – Atributos – Constructor\n",
    "\n",
    "---\n",
    "\n",
    "## 🧠 ¿Qué es la Programación Orientada a Objetos (POO)?\n",
    "\n",
    "La **POO** es un paradigma de programación que organiza el código en **objetos**, que son instancias de **clases**.\n",
    "Una clase es como un plano, y un objeto es una copia funcional con sus propios datos.\n",
    "\n",
    "> 🎯 Objetivo: agrupar **datos (atributos)** y **funcionalidades (métodos)** relacionados."
   ]
  },
  {
   "cell_type": "markdown",
   "id": "c60612d1",
   "metadata": {},
   "source": [
    "## ✅ ¿Qué es una clase?\n",
    "\n",
    "Una **clase** define cómo será un objeto: qué atributos tendrá y qué podrá hacer.\n",
    "\n",
    "### 📌 Sintaxis básica:\n",
    "\n",
    "```python\n",
    "class Persona:\n",
    "    def __init__(self, nombre, edad):\n",
    "        self.nombre = nombre\n",
    "        self.edad = edad\n",
    "\n",
    "    def saludar(self):\n",
    "        print(f\"Hola, soy {self.nombre} y tengo {self.edad} años.\")\n",
    "```\n",
    "\n",
    "* `__init__` es el **constructor**, se ejecuta al crear el objeto.\n",
    "* `self` representa **la instancia actual del objeto**."
   ]
  },
  {
   "cell_type": "code",
   "execution_count": 1,
   "id": "b249af7b",
   "metadata": {},
   "outputs": [],
   "source": [
    "class Persona:\n",
    "    def __init__(self, nombre, edad):\n",
    "        self.nombre = nombre\n",
    "        self.edad = edad\n",
    "\n",
    "    def saludar(self):\n",
    "        print(f\"Hola, soy {self.nombre} y tengo {self.edad} años.\")"
   ]
  },
  {
   "cell_type": "markdown",
   "id": "0ac44cc8",
   "metadata": {},
   "source": [
    "## 🔨 Crear una instancia (objeto)\n",
    "\n",
    "```python\n",
    "p1 = Persona(\"Ana\", 25)\n",
    "p1.saludar()  # Hola, soy Ana y tengo 25 años.\n",
    "```"
   ]
  },
  {
   "cell_type": "code",
   "execution_count": 2,
   "id": "39ca2b08",
   "metadata": {},
   "outputs": [
    {
     "name": "stdout",
     "output_type": "stream",
     "text": [
      "Hola, soy Ana y tengo 25 años.\n"
     ]
    }
   ],
   "source": [
    "p1 = Persona(\"Ana\", 25)\n",
    "p1.saludar()  # Hola, soy Ana y tengo 25 años."
   ]
  },
  {
   "cell_type": "markdown",
   "id": "82f1b013",
   "metadata": {},
   "source": [
    "## 🧩 Atributos vs Métodos\n",
    "\n",
    "| Elemento | Qué es                       | Ejemplo                    |\n",
    "| -------- | ---------------------------- | -------------------------- |\n",
    "| Atributo | Dato que pertenece al objeto | `self.nombre`, `self.edad` |\n",
    "| Método   | Función dentro de la clase   | `def saludar(self):`       |"
   ]
  },
  {
   "cell_type": "markdown",
   "id": "0124bf84",
   "metadata": {},
   "source": [
    "## 🔄 Métodos adicionales\n",
    "\n",
    "Puedes agregar más métodos que actúen sobre los datos del objeto.\n",
    "\n",
    "```python\n",
    "class Rectangulo:\n",
    "    def __init__(self, base, altura):\n",
    "        self.base = base\n",
    "        self.altura = altura\n",
    "\n",
    "    def area(self):\n",
    "        return self.base * self.altura\n",
    "\n",
    "r1 = Rectangulo(4, 3)\n",
    "print(r1.area())  # 12\n",
    "```"
   ]
  },
  {
   "cell_type": "code",
   "execution_count": 3,
   "id": "78d1608b",
   "metadata": {},
   "outputs": [
    {
     "name": "stdout",
     "output_type": "stream",
     "text": [
      "12\n"
     ]
    }
   ],
   "source": [
    "class Rectangulo:\n",
    "    def __init__(self, base, altura):\n",
    "        self.base = base\n",
    "        self.altura = altura\n",
    "\n",
    "    def area(self):\n",
    "        return self.base * self.altura\n",
    "\n",
    "r1 = Rectangulo(4, 3)\n",
    "print(r1.area())  # 12"
   ]
  },
  {
   "cell_type": "markdown",
   "id": "a91d2540",
   "metadata": {},
   "source": [
    "## 🔒 Encapsulamiento (básico)\n",
    "\n",
    "Puedes indicar atributos \"privados\" usando un guion bajo `_` por convención:\n",
    "\n",
    "```python\n",
    "class Cuenta:\n",
    "    def __init__(self, saldo):\n",
    "        self._saldo = saldo\n",
    "\n",
    "    def mostrar_saldo(self):\n",
    "        print(f\"Saldo: {self._saldo}\")\n",
    "```\n",
    "\n",
    "> Nota: Python no impide el acceso, pero sugiere no modificar directamente los atributos con `_`."
   ]
  },
  {
   "cell_type": "code",
   "execution_count": 4,
   "id": "61f8f945",
   "metadata": {},
   "outputs": [],
   "source": [
    "class Cuenta:\n",
    "    def __init__(self, saldo):\n",
    "        self._saldo = saldo\n",
    "\n",
    "    def mostrar_saldo(self):\n",
    "        print(f\"Saldo: {self._saldo}\")"
   ]
  },
  {
   "cell_type": "markdown",
   "id": "f49a84ea",
   "metadata": {},
   "source": [
    "## 📋 Resumen\n",
    "\n",
    "| Concepto   | Descripción                          |\n",
    "| ---------- | ------------------------------------ |\n",
    "| `class`    | Define una clase                     |\n",
    "| `__init__` | Método constructor                   |\n",
    "| `self`     | Referencia al propio objeto          |\n",
    "| Método     | Función definida dentro de una clase |\n",
    "| Objeto     | Instancia de una clase               |"
   ]
  },
  {
   "cell_type": "markdown",
   "id": "a9319355",
   "metadata": {},
   "source": [
    "## 🧪 Ejemplo práctico completo\n",
    "\n",
    "```python\n",
    "class Estudiante:\n",
    "    def __init__(self, nombre, carrera):\n",
    "        self.nombre = nombre\n",
    "        self.carrera = carrera\n",
    "\n",
    "    def presentarse(self):\n",
    "        print(f\"Soy {self.nombre} y estudio {self.carrera}.\")\n",
    "\n",
    "e1 = Estudiante(\"Carlos\", \"Ingeniería\")\n",
    "e1.presentarse()  # Soy Carlos y estudio Ingeniería.\n",
    "```"
   ]
  },
  {
   "cell_type": "code",
   "execution_count": 5,
   "id": "0c2e1458",
   "metadata": {},
   "outputs": [
    {
     "name": "stdout",
     "output_type": "stream",
     "text": [
      "Soy Carlos y estudio Ingeniería.\n"
     ]
    }
   ],
   "source": [
    "class Estudiante:\n",
    "    def __init__(self, nombre, carrera):\n",
    "        self.nombre = nombre\n",
    "        self.carrera = carrera\n",
    "\n",
    "    def presentarse(self):\n",
    "        print(f\"Soy {self.nombre} y estudio {self.carrera}.\")\n",
    "\n",
    "e1 = Estudiante(\"Carlos\", \"Ingeniería\")\n",
    "e1.presentarse()  # Soy Carlos y estudio Ingeniería."
   ]
  },
  {
   "cell_type": "markdown",
   "id": "f5f588ce",
   "metadata": {},
   "source": [
    "## 🎓 Mini reto\n",
    "\n",
    "Crea una clase `Libro` que tenga atributos `título` y `autor`, y un método que imprima `\"El libro 'título' fue escrito por autor\"`.\n"
   ]
  },
  {
   "cell_type": "code",
   "execution_count": 7,
   "id": "b8e186b7",
   "metadata": {},
   "outputs": [
    {
     "name": "stdout",
     "output_type": "stream",
     "text": [
      "El libro '¿Es Dios un Matemático?' fue escrito por Mario Livio.\n"
     ]
    }
   ],
   "source": [
    "class Libro:\n",
    "    def __init__(self, titulo, autor):\n",
    "        self.titulo = titulo\n",
    "        self.autor = autor\n",
    "\n",
    "    def info(self):\n",
    "        print(f\"El libro '{self.titulo}' fue escrito por {self.autor}.\")\n",
    "\n",
    "libro1 = Libro(\"¿Es Dios un Matemático?\",\"Mario Livio\")\n",
    "libro1.info()"
   ]
  }
 ],
 "metadata": {
  "kernelspec": {
   "display_name": "Python 3",
   "language": "python",
   "name": "python3"
  },
  "language_info": {
   "codemirror_mode": {
    "name": "ipython",
    "version": 3
   },
   "file_extension": ".py",
   "mimetype": "text/x-python",
   "name": "python",
   "nbconvert_exporter": "python",
   "pygments_lexer": "ipython3",
   "version": "3.12.1"
  }
 },
 "nbformat": 4,
 "nbformat_minor": 5
}
