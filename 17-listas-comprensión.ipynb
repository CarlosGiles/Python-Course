{
 "cells": [
  {
   "cell_type": "markdown",
   "id": "f67663ff",
   "metadata": {},
   "source": [
    "# 🧾 Listas por Comprensión en Python\n",
    "\n",
    "**Temas**: Qué son – Cómo se crean – Filtros – Optimización – Ejemplos"
   ]
  },
  {
   "cell_type": "markdown",
   "id": "fc04f38e",
   "metadata": {},
   "source": [
    "## 🧠 ¿Qué es una lista por comprensión?\n",
    "\n",
    "Una **lista por comprensión** (*list comprehension*) es una forma **concisa y elegante** de crear listas en Python, basada en una expresión y un bucle.\n",
    "\n",
    "> 🎯 Es equivalente a un `for` tradicional con `append()`, pero en **una sola línea de código**."
   ]
  },
  {
   "cell_type": "markdown",
   "id": "7933f769",
   "metadata": {},
   "source": [
    "## 📌 Sintaxis general\n",
    "\n",
    "```python\n",
    "[expresión for elemento in iterable]\n",
    "```"
   ]
  },
  {
   "cell_type": "markdown",
   "id": "34982dd5",
   "metadata": {},
   "source": [
    "### ✅ Ejemplo básico:\n",
    "\n",
    "```python\n",
    "cuadrados = [x**2 for x in range(5)]\n",
    "print(cuadrados)  # [0, 1, 4, 9, 16]\n",
    "```"
   ]
  },
  {
   "cell_type": "code",
   "execution_count": 1,
   "id": "555c1cf1",
   "metadata": {},
   "outputs": [
    {
     "name": "stdout",
     "output_type": "stream",
     "text": [
      "[0, 1, 4, 9, 16]\n"
     ]
    }
   ],
   "source": [
    "cuadrados = [x**2 for x in range(5)]\n",
    "print(cuadrados)  # [0, 1, 4, 9, 16]"
   ]
  },
  {
   "cell_type": "markdown",
   "id": "919298f5",
   "metadata": {},
   "source": [
    "## 🔍 Comparación con método tradicional\n",
    "\n",
    "```python\n",
    "# Forma clásica\n",
    "cuadrados = []\n",
    "for x in range(5):\n",
    "    cuadrados.append(x**2)\n",
    "\n",
    "# List comprehension\n",
    "cuadrados = [x**2 for x in range(5)]\n",
    "```\n",
    "\n",
    "Ambos códigos hacen lo mismo, pero el segundo es **más compacto y legible**."
   ]
  },
  {
   "cell_type": "code",
   "execution_count": 2,
   "id": "1894d28b",
   "metadata": {},
   "outputs": [
    {
     "name": "stdout",
     "output_type": "stream",
     "text": [
      "[0, 1, 4, 9, 16]\n"
     ]
    }
   ],
   "source": [
    "cuadrados = []\n",
    "for x in range(5):\n",
    "    cuadrados.append(x**2)\n",
    "print(cuadrados)  # [0, 1, 4, 9, 16]"
   ]
  },
  {
   "cell_type": "markdown",
   "id": "269190fd",
   "metadata": {},
   "source": [
    "## 🎯 Añadir condiciones (filtro con `if`)\n",
    "\n",
    "```python\n",
    "pares = [x for x in range(10) if x % 2 == 0]\n",
    "print(pares)  # [0, 2, 4, 6, 8]\n",
    "```"
   ]
  },
  {
   "cell_type": "code",
   "execution_count": 3,
   "id": "7959edfa",
   "metadata": {},
   "outputs": [
    {
     "name": "stdout",
     "output_type": "stream",
     "text": [
      "[0, 2, 4, 6, 8, 10]\n"
     ]
    }
   ],
   "source": [
    "pares = [x for x in range(11) if x % 2 == 0]\n",
    "print(pares)  # [0, 2, 4, 6, 8]"
   ]
  },
  {
   "cell_type": "markdown",
   "id": "9ea8810d",
   "metadata": {},
   "source": [
    "### 📌 Estructura:\n",
    "\n",
    "```python\n",
    "[expresión for x in iterable if condición]\n",
    "```"
   ]
  },
  {
   "cell_type": "markdown",
   "id": "c379f7a7",
   "metadata": {},
   "source": [
    "## 🛠️ Usar `if...else` dentro de la expresión\n",
    "\n",
    "```python\n",
    "resultado = [\"par\" if x % 2 == 0 else \"impar\" for x in range(5)]\n",
    "print(resultado)  # ['par', 'impar', 'par', 'impar', 'par']\n",
    "```\n",
    "\n",
    "> ✅ Aquí el `if...else` va dentro de la **expresión**, no como filtro.\n",
    "\n",
    "---\n",
    "\n",
    "## 🧪 Ejemplos prácticos\n",
    "\n",
    "### ✅ Convertir cadenas a mayúsculas:\n",
    "\n",
    "```python\n",
    "nombres = [\"ana\", \"Luis\", \"maría\"]\n",
    "mayus = [nombre.upper() for nombre in nombres]\n",
    "```\n",
    "\n",
    "### ✅ Extraer números positivos:\n",
    "\n",
    "```python\n",
    "numeros = [-2, -1, 0, 1, 2]\n",
    "positivos = [n for n in numeros if n > 0]\n",
    "```\n",
    "\n",
    "---\n",
    "\n",
    "## 🧠 Ventajas de usar list comprehensions\n",
    "\n",
    "| Ventaja         | Descripción                                  |\n",
    "| --------------- | -------------------------------------------- |\n",
    "| ✔ Más conciso   | Menos líneas de código                       |\n",
    "| ✔ Más legible   | Intención clara (una sola línea dice todo)   |\n",
    "| ✔ Más eficiente | Generalmente más rápido que `for` + `append` |\n",
    "\n",
    "---\n",
    "\n",
    "## ⚠️ Cuándo no usarlo\n",
    "\n",
    "Evita comprensiones muy **largas o anidadas**, ya que pueden dificultar la legibilidad.\n",
    "\n",
    "```python\n",
    "# ❌ Difícil de leer si es muy complejo:\n",
    "[x**2 for x in range(100) if x % 2 == 0 and x > 50 and x < 80]\n",
    "```\n",
    "\n",
    "En esos casos, es mejor usar un bucle tradicional.\n",
    "\n",
    "---\n",
    "\n",
    "## 📋 Resumen\n",
    "\n",
    "| Caso                      | Ejemplo                                            |\n",
    "| ------------------------- | -------------------------------------------------- |\n",
    "| Lista de valores          | `[x for x in range(5)]`                            |\n",
    "| Filtro (`if`)             | `[x for x in datos if x > 0]`                      |\n",
    "| Condicional (`if...else`) | `[\"par\" if x%2==0 else \"impar\" for x in range(4)]` |\n",
    "| Transformación de texto   | `[s.upper() for s in nombres]`                     |\n",
    "\n",
    "---\n",
    "\n",
    "## 🧠 Mini reto\n",
    "\n",
    "Crea una lista por comprensión que contenga los **cuadrados de los múltiplos de 3** entre 1 y 30."
   ]
  },
  {
   "cell_type": "code",
   "execution_count": 4,
   "id": "07e01b44",
   "metadata": {},
   "outputs": [
    {
     "name": "stdout",
     "output_type": "stream",
     "text": [
      "[9, 36, 81, 144, 225, 324, 441, 576, 729, 900]\n"
     ]
    }
   ],
   "source": [
    "cuad_mult_tres = [x**2 for x in range(1,31) if x % 3 == 0]\n",
    "print(cuad_mult_tres)  # [9, 36, 81, 144, 225, 324, 441, 576, 729, 900]"
   ]
  }
 ],
 "metadata": {
  "kernelspec": {
   "display_name": "Python 3",
   "language": "python",
   "name": "python3"
  },
  "language_info": {
   "codemirror_mode": {
    "name": "ipython",
    "version": 3
   },
   "file_extension": ".py",
   "mimetype": "text/x-python",
   "name": "python",
   "nbconvert_exporter": "python",
   "pygments_lexer": "ipython3",
   "version": "3.12.1"
  }
 },
 "nbformat": 4,
 "nbformat_minor": 5
}
