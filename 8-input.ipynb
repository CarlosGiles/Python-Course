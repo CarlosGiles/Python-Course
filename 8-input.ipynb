{
 "cells": [
  {
   "cell_type": "markdown",
   "id": "cf710c35",
   "metadata": {},
   "source": [
    "# 🎤 La función `input()` en Python\n",
    "\n",
    "En programación, muchas veces necesitas **pedir datos al usuario** para que tu programa sea más dinámico. En Python, esto se logra con la función incorporada `input()`."
   ]
  },
  {
   "cell_type": "markdown",
   "id": "6e2aa764",
   "metadata": {},
   "source": [
    "## ✅ ¿Qué hace `input()`?\n",
    "\n",
    "La función `input()` **espera que el usuario escriba algo en la consola**, y cuando presiona Enter, devuelve lo que escribió **como una cadena de texto** (`str`).\n",
    "\n",
    "---\n",
    "\n",
    "## 📌 Sintaxis básica\n",
    "\n",
    "```python\n",
    "nombre = input(\"¿Cómo te llamas? \")\n",
    "print(\"Hola,\", nombre)\n",
    "```\n",
    "\n",
    "**Salida en consola:**\n",
    "\n",
    "```\n",
    "¿Cómo te llamas? Carlos\n",
    "Hola, Carlos\n",
    "```\n",
    "\n",
    "> 🔎 Nota: El mensaje dentro de `input()` es opcional, pero sirve para indicar al usuario qué se espera que ingrese."
   ]
  },
  {
   "cell_type": "code",
   "execution_count": 1,
   "id": "31d7104d",
   "metadata": {},
   "outputs": [
    {
     "name": "stdout",
     "output_type": "stream",
     "text": [
      "Hola, Carlos\n"
     ]
    }
   ],
   "source": [
    "nombre = input(\"¿Cómo te llamas? \")\n",
    "print(\"Hola,\", nombre)"
   ]
  },
  {
   "cell_type": "markdown",
   "id": "2b9b9d84",
   "metadata": {},
   "source": [
    "## 🎯 Importante: `input()` siempre devuelve una cadena (`str`)\n",
    "\n",
    "Si necesitas trabajar con **números**, debes convertir el valor ingresado:\n",
    "\n",
    "```python\n",
    "edad = input(\"¿Qué edad tienes? \")\n",
    "print(type(edad))  # <class 'str'>\n",
    "```\n",
    "\n",
    "Para convertir a entero o flotante:\n",
    "\n",
    "```python\n",
    "edad = int(input(\"¿Qué edad tienes? \"))\n",
    "altura = float(input(\"¿Cuánto mides en metros? \"))\n",
    "```"
   ]
  },
  {
   "cell_type": "code",
   "execution_count": 2,
   "id": "58b70dc6",
   "metadata": {},
   "outputs": [
    {
     "name": "stdout",
     "output_type": "stream",
     "text": [
      "<class 'str'>\n"
     ]
    }
   ],
   "source": [
    "edad = input(\"¿Qué edad tienes? \")\n",
    "print(type(edad))  # <class 'str'>"
   ]
  },
  {
   "cell_type": "markdown",
   "id": "08af0e91",
   "metadata": {},
   "source": [
    "## 🧪 Ejemplo completo\n",
    "\n",
    "```python\n",
    "nombre = input(\"Nombre: \")\n",
    "años = int(input(\"Edad: \"))\n",
    "print(f\"{nombre} tiene {años} años.\")\n",
    "```\n",
    "\n",
    "**Ejemplo de salida:**\n",
    "\n",
    "```\n",
    "Nombre: Carlos\n",
    "Edad: 30\n",
    "Carlos tiene 30 años.\n",
    "```"
   ]
  },
  {
   "cell_type": "code",
   "execution_count": 3,
   "id": "5372e808",
   "metadata": {},
   "outputs": [
    {
     "name": "stdout",
     "output_type": "stream",
     "text": [
      "Carlos tiene 30 años.\n"
     ]
    }
   ],
   "source": [
    "nombre = input(\"Nombre: \")\n",
    "años = int(input(\"Edad: \"))\n",
    "print(f\"{nombre} tiene {años} años.\")"
   ]
  },
  {
   "cell_type": "markdown",
   "id": "b644bfa9",
   "metadata": {},
   "source": [
    "## ⚠️ Posibles errores comunes\n",
    "\n",
    "| Error                      | Causa                                     | Solución                                  |\n",
    "| -------------------------- | ----------------------------------------- | ----------------------------------------- |\n",
    "| `ValueError`               | Se intenta convertir texto no numérico    | Validar con `try-except`                  |\n",
    "| Uso sin conversión         | Operaciones con strings en vez de números | Usar `int()` o `float()`                  |\n",
    "| Olvidar el mensaje de guía | El usuario no sabe qué debe escribir      | Agregar un prompt descriptivo a `input()` |"
   ]
  },
  {
   "cell_type": "markdown",
   "id": "7315d782",
   "metadata": {},
   "source": [
    "## 🧠 Conclusión\n",
    "\n",
    "La función `input()` es tu herramienta para **recibir datos del usuario**. Recuerda que siempre devuelve texto, así que deberás convertirlo si necesitas trabajar con otros tipos de datos. Es esencial para construir programas interactivos y personalizados."
   ]
  }
 ],
 "metadata": {
  "kernelspec": {
   "display_name": "Python 3",
   "language": "python",
   "name": "python3"
  },
  "language_info": {
   "codemirror_mode": {
    "name": "ipython",
    "version": 3
   },
   "file_extension": ".py",
   "mimetype": "text/x-python",
   "name": "python",
   "nbconvert_exporter": "python",
   "pygments_lexer": "ipython3",
   "version": "3.12.1"
  }
 },
 "nbformat": 4,
 "nbformat_minor": 5
}
