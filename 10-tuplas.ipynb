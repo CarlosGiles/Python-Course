{
 "cells": [
  {
   "cell_type": "markdown",
   "id": "566ea9cd",
   "metadata": {},
   "source": [
    "# 🔐 Tuplas en Python\n",
    "\n",
    "**Temas**: Qué son – Cómo se crean – Para qué se usan – Comparación con listas"
   ]
  },
  {
   "cell_type": "markdown",
   "id": "1ba94c33",
   "metadata": {},
   "source": [
    "## 🧠 ¿Qué es una tupla?\n",
    "\n",
    "Una **tupla** es una colección **ordenada e inmutable** de elementos. Es similar a una lista, pero **no puede modificarse después de su creación**.\n",
    "\n",
    "Se representa con paréntesis `()` y puede contener **cualquier tipo de dato**."
   ]
  },
  {
   "cell_type": "markdown",
   "id": "5014d0eb",
   "metadata": {},
   "source": [
    "## 📌 Creación de tuplas\n",
    "\n",
    "```python\n",
    "tupla_vacia = ()\n",
    "tupla_simple = (1, 2, 3)\n",
    "tupla_mixta = (\"texto\", 3.14, True, 7)\n",
    "\n",
    "# También se puede crear sin paréntesis (no recomendado si hay ambigüedad)\n",
    "tupla_inferida = 1, 2, 3\n",
    "```"
   ]
  },
  {
   "cell_type": "code",
   "execution_count": 2,
   "id": "c5b78632",
   "metadata": {},
   "outputs": [
    {
     "name": "stdout",
     "output_type": "stream",
     "text": [
      "()\n",
      "(1, 2, 3)\n",
      "('texto', 3.14, True, 7)\n",
      "(1, 2, 3)\n",
      "(5,)\n"
     ]
    }
   ],
   "source": [
    "tupla_vacia = ()\n",
    "tupla_simple = (1, 2, 3)\n",
    "tupla_mixta = (\"texto\", 3.14, True, 7)\n",
    "tupla_un_elemento = (5,)  # Ojo con la coma\n",
    "\n",
    "# También se puede crear sin paréntesis (no recomendado si hay ambigüedad)\n",
    "tupla_inferida = 1, 2, 3\n",
    "print(tupla_vacia, tupla_simple, tupla_mixta, tupla_inferida, tupla_un_elemento, sep=\"\\n\")"
   ]
  },
  {
   "cell_type": "markdown",
   "id": "2c9fb26b",
   "metadata": {},
   "source": [
    "## 🔎 Acceso e indexación\n",
    "\n",
    "Las tuplas, al ser **ordenadas**, permiten acceder a sus elementos por **índice**, igual que las listas.\n",
    "\n",
    "```python\n",
    "colores = (\"rojo\", \"verde\", \"azul\")\n",
    "print(colores[0])     # rojo\n",
    "print(colores[-1])    # azul\n",
    "print(colores[0:2])   # ('rojo', 'verde')\n",
    "```"
   ]
  },
  {
   "cell_type": "code",
   "execution_count": 3,
   "id": "7300d23c",
   "metadata": {},
   "outputs": [
    {
     "name": "stdout",
     "output_type": "stream",
     "text": [
      "rojo\n",
      "azul\n",
      "('rojo', 'verde')\n"
     ]
    }
   ],
   "source": [
    "colores = (\"rojo\", \"verde\", \"azul\")\n",
    "print(colores[0])     # rojo\n",
    "print(colores[-1])    # azul\n",
    "print(colores[0:2])   # ('rojo', 'verde')"
   ]
  },
  {
   "cell_type": "markdown",
   "id": "d7559ea9",
   "metadata": {},
   "source": [
    "## 🚫 Inmutabilidad\n",
    "\n",
    "Una vez creada, **no puedes modificar una tupla**:\n",
    "\n",
    "```python\n",
    "colores[0] = \"amarillo\"  # ❌ Error: 'tuple' object does not support item assignment\n",
    "```"
   ]
  },
  {
   "cell_type": "code",
   "execution_count": 4,
   "id": "4a059187",
   "metadata": {},
   "outputs": [
    {
     "ename": "TypeError",
     "evalue": "'tuple' object does not support item assignment",
     "output_type": "error",
     "traceback": [
      "\u001b[1;31m---------------------------------------------------------------------------\u001b[0m",
      "\u001b[1;31mTypeError\u001b[0m                                 Traceback (most recent call last)",
      "Cell \u001b[1;32mIn[4], line 1\u001b[0m\n\u001b[1;32m----> 1\u001b[0m \u001b[43mcolores\u001b[49m\u001b[43m[\u001b[49m\u001b[38;5;241;43m0\u001b[39;49m\u001b[43m]\u001b[49m \u001b[38;5;241m=\u001b[39m \u001b[38;5;124m\"\u001b[39m\u001b[38;5;124mamarillo\u001b[39m\u001b[38;5;124m\"\u001b[39m\n",
      "\u001b[1;31mTypeError\u001b[0m: 'tuple' object does not support item assignment"
     ]
    }
   ],
   "source": [
    "colores[0] = \"amarillo\""
   ]
  },
  {
   "cell_type": "markdown",
   "id": "34cd6251",
   "metadata": {},
   "source": [
    "## 🔁 Recorrido con bucles\n",
    "\n",
    "```python\n",
    "for color in colores:\n",
    "    print(color)\n",
    "```"
   ]
  },
  {
   "cell_type": "code",
   "execution_count": 5,
   "id": "a58fd010",
   "metadata": {},
   "outputs": [
    {
     "name": "stdout",
     "output_type": "stream",
     "text": [
      "rojo\n",
      "verde\n",
      "azul\n"
     ]
    }
   ],
   "source": [
    "for color in colores:\n",
    "    print(color)"
   ]
  },
  {
   "cell_type": "markdown",
   "id": "8952ff5e",
   "metadata": {},
   "source": [
    "## 🧰 Métodos útiles\n",
    "\n",
    "```python\n",
    "numeros = (1, 2, 3, 2, 4)\n",
    "print(numeros.count(2))  # 2\n",
    "print(numeros.index(3))  # 2\n",
    "```"
   ]
  },
  {
   "cell_type": "code",
   "execution_count": 6,
   "id": "3ede6112",
   "metadata": {},
   "outputs": [
    {
     "name": "stdout",
     "output_type": "stream",
     "text": [
      "2\n",
      "2\n"
     ]
    }
   ],
   "source": [
    "numeros = (1, 2, 3, 2, 4)\n",
    "print(numeros.count(2))  # 2\n",
    "print(numeros.index(3))  # 2"
   ]
  },
  {
   "cell_type": "markdown",
   "id": "fbb12562",
   "metadata": {},
   "source": [
    "## 📋 Comparación: Tuplas vs. Listas\n",
    "\n",
    "| Característica      | Lista (`list`)    | Tupla (`tuple`)     |\n",
    "| ------------------- | ----------------- | ------------------- |\n",
    "| Mutabilidad         | ✅ Mutable         | ❌ Inmutable         |\n",
    "| Sintaxis            | Corchetes `[]`    | Paréntesis `()`     |\n",
    "| Métodos disponibles | Muchos            | Pocos               |\n",
    "| Rendimiento         | Más lenta         | Más rápida          |\n",
    "| Uso típico          | Datos que cambian | Datos fijos/seguros |"
   ]
  },
  {
   "cell_type": "markdown",
   "id": "fddf5e57",
   "metadata": {},
   "source": [
    "## 🧪 Ejemplo práctico\n",
    "\n",
    "```python\n",
    "persona = (\"Carlos\", 30, \"México\")\n",
    "nombre, edad, país = persona  # Desempaquetado\n",
    "\n",
    "print(f\"{nombre} tiene {edad} años y vive en {país}\")\n",
    "```"
   ]
  },
  {
   "cell_type": "code",
   "execution_count": 7,
   "id": "684f9bde",
   "metadata": {},
   "outputs": [
    {
     "name": "stdout",
     "output_type": "stream",
     "text": [
      "Carlos tiene 30 años y vive en México\n"
     ]
    }
   ],
   "source": [
    "persona = (\"Carlos\", 30, \"México\")\n",
    "nombre, edad, país = persona  # Desempaquetado\n",
    "\n",
    "print(f\"{nombre} tiene {edad} años y vive en {país}\")"
   ]
  },
  {
   "cell_type": "markdown",
   "id": "aec26163",
   "metadata": {},
   "source": [
    "## 🎯 ¿Cuándo usar una tupla?\n",
    "\n",
    "* Cuando los **datos no deben cambiar** (por ejemplo, coordenadas, fechas, configuraciones).\n",
    "* Para mayor seguridad y eficiencia.\n",
    "* Como claves en un diccionario (las listas no pueden usarse como claves, pero las tuplas sí)."
   ]
  }
 ],
 "metadata": {
  "kernelspec": {
   "display_name": "Python 3",
   "language": "python",
   "name": "python3"
  },
  "language_info": {
   "codemirror_mode": {
    "name": "ipython",
    "version": 3
   },
   "file_extension": ".py",
   "mimetype": "text/x-python",
   "name": "python",
   "nbconvert_exporter": "python",
   "pygments_lexer": "ipython3",
   "version": "3.12.1"
  }
 },
 "nbformat": 4,
 "nbformat_minor": 5
}
