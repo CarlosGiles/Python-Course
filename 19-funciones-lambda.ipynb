{
 "cells": [
  {
   "cell_type": "markdown",
   "id": "def94124",
   "metadata": {},
   "source": [
    "# ⚡ Funciones `lambda` en Python\n",
    "\n",
    "**Temas**: Qué son – Sintaxis – Comparación con `def` – Aplicaciones prácticas"
   ]
  },
  {
   "cell_type": "markdown",
   "id": "f9ce725e",
   "metadata": {},
   "source": [
    "## 🧠 ¿Qué es una función `lambda`?\n",
    "\n",
    "Una **función `lambda`** es una función **anónima y de una sola línea**. Se usa para **definir funciones pequeñas y simples**, sin necesidad de nombrarlas con `def`.\n",
    "\n",
    "> 🎯 Se usa principalmente cuando necesitas una función rápida, y no planeas reutilizarla varias veces.\n",
    "\n",
    "---\n",
    "\n",
    "## ✅ Sintaxis básica\n",
    "\n",
    "```python\n",
    "lambda argumentos: expresión\n",
    "```\n",
    "\n",
    "### 📌 Ejemplo:\n",
    "\n",
    "```python\n",
    "cuadrado = lambda x: x ** 2\n",
    "print(cuadrado(5))  # 25\n",
    "```"
   ]
  },
  {
   "cell_type": "code",
   "execution_count": 1,
   "id": "3f2adfb8",
   "metadata": {},
   "outputs": [
    {
     "name": "stdout",
     "output_type": "stream",
     "text": [
      "25\n"
     ]
    }
   ],
   "source": [
    "cuadrado = lambda x: x ** 2\n",
    "print(cuadrado(5))  # 25"
   ]
  },
  {
   "cell_type": "markdown",
   "id": "82dea984",
   "metadata": {},
   "source": [
    "## 🔍 Comparación con `def`\n",
    "\n",
    "```python\n",
    "# Función tradicional\n",
    "def cuadrado(x):\n",
    "    return x ** 2\n",
    "\n",
    "# Función lambda equivalente\n",
    "lambda x: x ** 2\n",
    "```"
   ]
  },
  {
   "cell_type": "markdown",
   "id": "89f56965",
   "metadata": {},
   "source": [
    "## 🔄 Funciones lambda con varios argumentos\n",
    "\n",
    "```python\n",
    "suma = lambda a, b: a + b\n",
    "print(suma(3, 4))  # 7\n",
    "```"
   ]
  },
  {
   "cell_type": "markdown",
   "id": "a73f510f",
   "metadata": {},
   "source": [
    "## 🚀 Aplicaciones prácticas\n",
    "\n",
    "Las funciones `lambda` se usan **junto con funciones como `map()`, `filter()`, `sorted()` y `reduce()`** para escribir código compacto."
   ]
  },
  {
   "cell_type": "markdown",
   "id": "c7ef469f",
   "metadata": {},
   "source": [
    "### 🔸 `map()` – aplicar una función a cada elemento\n",
    "\n",
    "```python\n",
    "numeros = [1, 2, 3, 4]\n",
    "dobles = list(map(lambda x: x * 2, numeros))\n",
    "print(dobles)  # [2, 4, 6, 8]\n",
    "```"
   ]
  },
  {
   "cell_type": "markdown",
   "id": "d5e51814",
   "metadata": {},
   "source": [
    "`dobles` será una `lista` luego de `mapear` cada elemento y multiplicarlo por 2 de la lista `numeros`:"
   ]
  },
  {
   "cell_type": "code",
   "execution_count": 6,
   "id": "71f6c134",
   "metadata": {},
   "outputs": [
    {
     "name": "stdout",
     "output_type": "stream",
     "text": [
      "[2, 4, 6, 8]\n"
     ]
    }
   ],
   "source": [
    "numeros = [1, 2, 3, 4]\n",
    "dobles = list(map(lambda x: x * 2, numeros))\n",
    "print(dobles)  # [2, 4, 6, 8]"
   ]
  },
  {
   "cell_type": "markdown",
   "id": "98c01132",
   "metadata": {},
   "source": [
    "### 🔸 `filter()` – filtrar elementos según condición\n",
    "\n",
    "```python\n",
    "pares = list(filter(lambda x: x % 2 == 0, numeros))\n",
    "print(pares)  # [2, 4]\n",
    "```"
   ]
  },
  {
   "cell_type": "markdown",
   "id": "4fbba80c",
   "metadata": {},
   "source": [
    "`Pares` será una `lista` después de filtrar las `x`, cuyas `x` sean aquellas con `módulo` igual a `0` dentro de la lista `numeros`:"
   ]
  },
  {
   "cell_type": "code",
   "execution_count": 3,
   "id": "902436a7",
   "metadata": {},
   "outputs": [
    {
     "name": "stdout",
     "output_type": "stream",
     "text": [
      "[2, 4]\n"
     ]
    }
   ],
   "source": [
    "pares = list(filter(lambda x: x % 2 == 0, numeros))\n",
    "print(pares)  # [2, 4]"
   ]
  },
  {
   "cell_type": "markdown",
   "id": "e1cb0bfc",
   "metadata": {},
   "source": [
    "### 🔸 `sorted()` con clave personalizada\n",
    "\n",
    "```python\n",
    "nombres = [\"Ana\", \"Juan\", \"carla\", \"Pedro\"]\n",
    "ordenado = sorted(nombres, key=lambda x: x.lower())\n",
    "print(ordenado)\n",
    "# ['Ana', 'carla', 'Juan', 'Pedro']\n",
    "```"
   ]
  },
  {
   "cell_type": "code",
   "execution_count": 4,
   "id": "004216bf",
   "metadata": {},
   "outputs": [
    {
     "name": "stdout",
     "output_type": "stream",
     "text": [
      "['Ana', 'carla', 'Juan', 'Pedro']\n"
     ]
    }
   ],
   "source": [
    "nombres = [\"Ana\", \"Juan\", \"carla\", \"Pedro\"]\n",
    "ordenado = sorted(nombres, key=lambda x: x.lower())\n",
    "print(ordenado)\n",
    "# ['Ana', 'carla', 'Juan', 'Pedro']"
   ]
  },
  {
   "cell_type": "markdown",
   "id": "04551b03",
   "metadata": {},
   "source": [
    "### 🔸 `reduce()` – acumulación de resultados (requiere `functools`)\n",
    "\n",
    "```python\n",
    "from functools import reduce\n",
    "\n",
    "suma_total = reduce(lambda x, y: x + y, numeros)\n",
    "print(suma_total)  # 10\n",
    "```"
   ]
  },
  {
   "cell_type": "code",
   "execution_count": 7,
   "id": "5926a856",
   "metadata": {},
   "outputs": [
    {
     "name": "stdout",
     "output_type": "stream",
     "text": [
      "10\n"
     ]
    }
   ],
   "source": [
    "from functools import reduce\n",
    "\n",
    "numeros = [1, 2, 3, 4]\n",
    "suma_total = reduce(lambda x, y: x + y, numeros)\n",
    "print(suma_total)  # 10"
   ]
  },
  {
   "cell_type": "markdown",
   "id": "463a2dd4",
   "metadata": {},
   "source": [
    "## ❗ Cuándo **no usar** `lambda`\n",
    "\n",
    "Evita funciones `lambda` cuando:\n",
    "\n",
    "* El cuerpo de la función es complejo.\n",
    "* Necesitas comentarios o reutilización.\n",
    "* Necesitas depuración (no tienen nombre).\n",
    "\n",
    "---\n",
    "\n",
    "## 📋 Resumen\n",
    "\n",
    "| Característica   | Funciones `lambda`                            |\n",
    "| ---------------- | --------------------------------------------- |\n",
    "| Forma            | `lambda args: expresión`                      |\n",
    "| Uso              | Funciones rápidas, pequeñas                   |\n",
    "| No tienen nombre | Se asignan a una variable si es necesario     |\n",
    "| Limitadas        | Solo aceptan una expresión (no varias líneas) |\n",
    "| Uso común        | Con `map`, `filter`, `sorted`, etc.           |\n",
    "\n",
    "---\n",
    "\n",
    "## 🎓 Mini reto\n",
    "\n",
    "Usa `filter()` y `lambda` para crear una nueva lista que contenga solo los múltiplos de 3 entre 1 y 20.\n",
    "\n",
    "```python\n",
    "multiples_3 = list(filter(lambda x: x % 3 == 0, range(1, 21)))\n",
    "print(multiples_3)\n",
    "# Resultado: [3, 6, 9, 12, 15, 18]\n",
    "```\n"
   ]
  }
 ],
 "metadata": {
  "kernelspec": {
   "display_name": "Python 3",
   "language": "python",
   "name": "python3"
  },
  "language_info": {
   "codemirror_mode": {
    "name": "ipython",
    "version": 3
   },
   "file_extension": ".py",
   "mimetype": "text/x-python",
   "name": "python",
   "nbconvert_exporter": "python",
   "pygments_lexer": "ipython3",
   "version": "3.12.1"
  }
 },
 "nbformat": 4,
 "nbformat_minor": 5
}
