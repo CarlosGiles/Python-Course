{
 "cells": [
  {
   "cell_type": "markdown",
   "id": "9f342503",
   "metadata": {},
   "source": [
    "# 🛡️ Manejo de Excepciones y Errores en Python\n",
    "\n",
    "**Temas**: Tipos de errores – Bloques `try/except` – `else`, `finally` – `raise`\n",
    "\n",
    "---\n",
    "\n",
    "## 🧠 ¿Qué es una excepción?\n",
    "\n",
    "Una **excepción** es un evento que interrumpe el flujo normal del programa cuando ocurre un **error en tiempo de ejecución**.\n",
    "Python detiene la ejecución y muestra un **mensaje de error**, a menos que manejes esa situación.\n",
    "\n",
    "---\n",
    "\n",
    "## 🔥 Ejemplos de errores comunes\n",
    "\n",
    "| Error               | Cuándo ocurre                                   |\n",
    "| ------------------- | ----------------------------------------------- |\n",
    "| `ZeroDivisionError` | División entre cero                             |\n",
    "| `ValueError`        | Conversión fallida de tipos (ej. `int(\"hola\")`) |\n",
    "| `TypeError`         | Operación entre tipos incompatibles             |\n",
    "| `IndexError`        | Acceso a índice fuera del rango                 |\n",
    "| `KeyError`          | Clave inexistente en diccionario                |"
   ]
  },
  {
   "cell_type": "markdown",
   "id": "93f3c037",
   "metadata": {},
   "source": [
    "## ✅ Manejo básico con `try` y `except`\n",
    "\n",
    "```python\n",
    "try:\n",
    "    numero = int(input(\"Ingresa un número: \"))\n",
    "    print(10 / numero)\n",
    "except ZeroDivisionError:\n",
    "    print(\"No se puede dividir entre cero.\")\n",
    "except ValueError:\n",
    "    print(\"Debes ingresar un número válido.\")\n",
    "```\n",
    "\n",
    "Si probamos el código con un `0` o un `str`, podremos ver el error:"
   ]
  },
  {
   "cell_type": "code",
   "execution_count": 2,
   "id": "d03cbab7",
   "metadata": {},
   "outputs": [
    {
     "name": "stdout",
     "output_type": "stream",
     "text": [
      "Debes ingresar un número válido.\n"
     ]
    }
   ],
   "source": [
    "try:\n",
    "    numero = int(input(\"Ingresa un número: \"))\n",
    "    print(10 / numero)\n",
    "except ZeroDivisionError:\n",
    "    print(\"No se puede dividir entre cero.\")\n",
    "except ValueError:\n",
    "    print(\"Debes ingresar un número válido.\")"
   ]
  },
  {
   "cell_type": "markdown",
   "id": "cab5119b",
   "metadata": {},
   "source": [
    "## 📌 Uso de múltiples `except`\n",
    "\n",
    "Puedes manejar **distintos tipos de errores por separado**, o usar un solo bloque para capturar cualquier excepción:\n",
    "\n",
    "```python\n",
    "try:\n",
    "    resultado = 10 / int(\"0\")\n",
    "except ZeroDivisionError:\n",
    "    print(\"División entre cero no permitida.\")\n",
    "except ValueError:\n",
    "    print(\"Conversión no válida.\")\n",
    "except Exception as e:\n",
    "    print(f\"Ocurrió un error: {e}\")\n",
    "```"
   ]
  },
  {
   "cell_type": "code",
   "execution_count": 3,
   "id": "6fedd109",
   "metadata": {},
   "outputs": [
    {
     "name": "stdout",
     "output_type": "stream",
     "text": [
      "División entre cero no permitida.\n"
     ]
    }
   ],
   "source": [
    "try:\n",
    "    resultado = 10 / int(\"0\")\n",
    "except ZeroDivisionError:\n",
    "    print(\"División entre cero no permitida.\")\n",
    "except ValueError:\n",
    "    print(\"Conversión no válida.\")\n",
    "except Exception as e:\n",
    "    print(f\"Ocurrió un error: {e}\")"
   ]
  },
  {
   "cell_type": "markdown",
   "id": "461d89d9",
   "metadata": {},
   "source": [
    "## 🧩 Bloques `else` y `finally`\n",
    "\n",
    "* `else`: se ejecuta **si no hubo errores**.\n",
    "* `finally`: se ejecuta **siempre**, haya error o no (útil para cerrar archivos, liberar recursos, etc.).\n",
    "\n",
    "```python\n",
    "try:\n",
    "    x = int(input(\"Número: \"))\n",
    "except ValueError:\n",
    "    print(\"Error de valor.\")\n",
    "else:\n",
    "    print(\"Todo salió bien.\")\n",
    "finally:\n",
    "    print(\"Fin del intento.\")\n",
    "```"
   ]
  },
  {
   "cell_type": "code",
   "execution_count": 5,
   "id": "d6802cad",
   "metadata": {},
   "outputs": [
    {
     "name": "stdout",
     "output_type": "stream",
     "text": [
      "Error de valor.\n",
      "Fin del intento.\n"
     ]
    }
   ],
   "source": [
    "try:\n",
    "    x = int(input(\"Número: \"))\n",
    "except ValueError:\n",
    "    print(\"Error de valor.\")\n",
    "else:\n",
    "    print(\"Todo salió bien.\")\n",
    "finally:\n",
    "    print(\"Fin del intento.\")"
   ]
  },
  {
   "cell_type": "markdown",
   "id": "824c90a1",
   "metadata": {},
   "source": [
    "## 🚨 Lanzar tus propias excepciones con `raise`\n",
    "\n",
    "Puedes forzar una excepción personalizada si se incumple una condición:\n",
    "\n",
    "```python\n",
    "edad = int(input(\"Edad: \"))\n",
    "if edad < 0:\n",
    "    raise ValueError(\"La edad no puede ser negativa\")\n",
    "```\n",
    "\n",
    "---\n",
    "\n",
    "## 🎯 Ventajas de manejar excepciones\n",
    "\n",
    "* Tu programa **no se detiene abruptamente** ante errores.\n",
    "* Puedes ofrecer **mensajes claros al usuario**.\n",
    "* Facilita la **depuración** y el control del flujo.\n",
    "\n",
    "---\n",
    "\n",
    "## 📋 Resumen de la estructura\n",
    "\n",
    "```python\n",
    "try:\n",
    "    # Código que puede fallar\n",
    "except TipoDeError:\n",
    "    # Qué hacer si ocurre ese error\n",
    "else:\n",
    "    # Qué hacer si no ocurre ningún error\n",
    "finally:\n",
    "    # Qué hacer siempre, ocurra o no el error\n",
    "```\n",
    "\n",
    "---\n",
    "\n",
    "## 🧪 Mini ejemplo completo\n",
    "\n",
    "```python\n",
    "def dividir(a, b):\n",
    "    try:\n",
    "        return a / b\n",
    "    except ZeroDivisionError:\n",
    "        return \"Error: división entre cero\"\n",
    "    except TypeError:\n",
    "        return \"Error: tipos incompatibles\"\n",
    "    else:\n",
    "        print(\"División exitosa\")\n",
    "    finally:\n",
    "        print(\"Fin de la operación\")\n",
    "\n",
    "print(dividir(10, 2))\n",
    "print(dividir(10, 0))\n",
    "print(dividir(10, \"a\"))\n",
    "```\n"
   ]
  },
  {
   "cell_type": "code",
   "execution_count": 13,
   "id": "7cff37c4",
   "metadata": {},
   "outputs": [
    {
     "name": "stdout",
     "output_type": "stream",
     "text": [
      "División exitosa\n",
      "Fin de la operación\n",
      "5.0 ---\n",
      "\n",
      "Fin de la operación\n",
      "Error: división entre cero ---\n",
      "\n",
      "Fin de la operación\n",
      "Error: tipos incompatibles ---\n",
      "\n"
     ]
    }
   ],
   "source": [
    "def dividir(a, b):\n",
    "    try:\n",
    "        \"\"\"Como en un try, la función termina si se llega correctamente al return,\n",
    "        mostramos el resultado guardado en una variable y no return a/b\"\"\"\n",
    "        resultado = a / b\n",
    "        print(\"División exitosa\")\n",
    "        return resultado\n",
    "    except ZeroDivisionError:\n",
    "        return \"Error: división entre cero\"\n",
    "    except TypeError:\n",
    "        return \"Error: tipos incompatibles\"\n",
    "    finally:\n",
    "        print(\"Fin de la operación\")\n",
    "\n",
    "print(dividir(10, 2),\"---\\n\")\n",
    "print(dividir(10, 0),\"---\\n\")\n",
    "print(dividir(10, \"a\"),\"---\\n\")"
   ]
  }
 ],
 "metadata": {
  "kernelspec": {
   "display_name": "Python 3",
   "language": "python",
   "name": "python3"
  },
  "language_info": {
   "codemirror_mode": {
    "name": "ipython",
    "version": 3
   },
   "file_extension": ".py",
   "mimetype": "text/x-python",
   "name": "python",
   "nbconvert_exporter": "python",
   "pygments_lexer": "ipython3",
   "version": "3.12.1"
  }
 },
 "nbformat": 4,
 "nbformat_minor": 5
}
