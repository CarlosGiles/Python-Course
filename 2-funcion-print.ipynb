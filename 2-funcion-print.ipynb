{
 "cells": [
  {
   "cell_type": "markdown",
   "id": "36767f88",
   "metadata": {},
   "source": [
    "# 📘 ¿Qué es la función `print()` en Python?"
   ]
  },
  {
   "cell_type": "markdown",
   "id": "3dfb4bab",
   "metadata": {},
   "source": [
    "## ✅ **Definición**\n",
    "\n",
    "La función `print()` en Python **muestra texto u otros valores en la consola o terminal**. Es una función incorporada (*built-in*), y se usa principalmente para:\n",
    "\n",
    "* Mostrar mensajes al usuario.\n",
    "* Ver el valor de variables durante la ejecución.\n",
    "* Depurar el programa.\n",
    "\n",
    "---"
   ]
  },
  {
   "cell_type": "markdown",
   "id": "5259e353",
   "metadata": {},
   "source": [
    "## 🧠 **Sintaxis de `print()`**\n",
    "\n",
    "```python\n",
    "print(valor1, valor2, ..., sep=' ', end='\\n', file=sys.stdout, flush=False)\n",
    "```"
   ]
  },
  {
   "cell_type": "markdown",
   "id": "48d306da",
   "metadata": {},
   "source": [
    "### Argumentos más comunes:\n",
    "\n",
    "| Argumento             | Descripción                                                         |\n",
    "| --------------------- | ------------------------------------------------------------------- |\n",
    "| `valor1, valor2, ...` | Los valores que quieres imprimir. Se pueden separar por comas.      |\n",
    "| `sep`                 | El separador entre valores. Por defecto es un espacio (`' '`).      |\n",
    "| `end`                 | Lo que se imprime al final. Por defecto es salto de línea (`'\\n'`). |\n",
    "| `file`                | A dónde se imprime (por defecto a la consola).                      |\n",
    "| `flush`               | Si se fuerza a vaciar el buffer (útil en streaming).                |\n",
    "\n",
    "---"
   ]
  },
  {
   "cell_type": "markdown",
   "id": "7fa3036c",
   "metadata": {},
   "source": [
    "## 🧪 **Ejemplos prácticos**\n",
    "\n",
    "```python\n",
    "print(\"Hola\", \"mundo\")             # Hola mundo\n",
    "print(\"Hola\", \"mundo\", sep='-')    # Hola-mundo\n",
    "print(\"Hola\", end='')              # No hace salto de línea\n",
    "print(\" otra vez\")                 # Se imprime en la misma línea\n",
    "```\n",
    "\n",
    "---"
   ]
  },
  {
   "cell_type": "code",
   "execution_count": 1,
   "id": "3759e0c4",
   "metadata": {},
   "outputs": [
    {
     "name": "stdout",
     "output_type": "stream",
     "text": [
      "Hola mundo\n",
      "Hola-mundo\n",
      "Hola otra vez\n"
     ]
    }
   ],
   "source": [
    "print(\"Hola\", \"mundo\")             # Hola mundo\n",
    "print(\"Hola\", \"mundo\", sep='-')    # Hola-mundo\n",
    "print(\"Hola\", end='')              # No hace salto de línea\n",
    "print(\" otra vez\")                 # Se imprime en la misma línea"
   ]
  }
 ],
 "metadata": {
  "kernelspec": {
   "display_name": "Python 3",
   "language": "python",
   "name": "python3"
  },
  "language_info": {
   "codemirror_mode": {
    "name": "ipython",
    "version": 3
   },
   "file_extension": ".py",
   "mimetype": "text/x-python",
   "name": "python",
   "nbconvert_exporter": "python",
   "pygments_lexer": "ipython3",
   "version": "3.12.1"
  }
 },
 "nbformat": 4,
 "nbformat_minor": 5
}
