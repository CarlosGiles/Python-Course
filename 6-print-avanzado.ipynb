{
 "cells": [
  {
   "cell_type": "markdown",
   "id": "21d8a18f",
   "metadata": {},
   "source": [
    "# 📘 Dominando la función `print()` en Python\n",
    "\n",
    "La función `print()` puede parecer simple, pero es una herramienta fundamental en tus programas. Es el primer paso para ver resultados, mostrar mensajes al usuario y depurar errores. Desde el clásico “Hola mundo” hasta mostrar el valor de variables, dominar `print()` te permite comunicarte con el mundo exterior a través de tu código."
   ]
  },
  {
   "cell_type": "markdown",
   "id": "d2d482da",
   "metadata": {},
   "source": [
    "## 1. 👋 Empezando con \"Hola mundo\"\n",
    "\n",
    "Imprimir tu primer mensaje es una forma sencilla de confirmar que tu entorno de Python está funcionando correctamente.\n",
    "\n",
    "```python\n",
    "print(\"Hola mundo\")\n",
    "```"
   ]
  },
  {
   "cell_type": "code",
   "execution_count": 1,
   "id": "3ae9b71a",
   "metadata": {},
   "outputs": [
    {
     "name": "stdout",
     "output_type": "stream",
     "text": [
      "Hola mundo\n"
     ]
    }
   ],
   "source": [
    "print(\"Hola mundo\")"
   ]
  },
  {
   "cell_type": "markdown",
   "id": "d94d191e",
   "metadata": {},
   "source": [
    "## 2. 🧩 Mostrar varias palabras con comas\n",
    "\n",
    "Puedes imprimir múltiples elementos separados por comas. Python agregará un espacio entre cada uno automáticamente.\n",
    "\n",
    "```python\n",
    "print(\"Print\", \"con\", \"comas\")\n",
    "```"
   ]
  },
  {
   "cell_type": "code",
   "execution_count": 2,
   "id": "54291591",
   "metadata": {},
   "outputs": [
    {
     "name": "stdout",
     "output_type": "stream",
     "text": [
      "Print con comas\n"
     ]
    }
   ],
   "source": [
    "print(\"Print\", \"con\", \"comas\")"
   ]
  },
  {
   "cell_type": "markdown",
   "id": "88efc6f4",
   "metadata": {},
   "source": [
    "## 3. ➕ Concatenación de cadenas con `+`\n",
    "\n",
    "También puedes unir textos usando el operador `+`, pero debes controlar los espacios tú mismo.\n",
    "\n",
    "```python\n",
    "print(\"Print\" + \"de\" + \"concatenacion\")\n",
    "# Resultado: Printdeconcatenacion\n",
    "\n",
    "print(\"Print\" + \" \" + \"de\" + \" \" + \"concatenacion\")\n",
    "# Resultado: Print de concatenacion\n",
    "```"
   ]
  },
  {
   "cell_type": "code",
   "execution_count": 3,
   "id": "b47bc2d9",
   "metadata": {},
   "outputs": [
    {
     "name": "stdout",
     "output_type": "stream",
     "text": [
      "Printdeconcatenacion\n",
      "Print de concatenacion\n"
     ]
    }
   ],
   "source": [
    "print(\"Print\" + \"de\" + \"concatenacion\")\n",
    "# Resultado: Printdeconcatenacion\n",
    "\n",
    "print(\"Print\" + \" \" + \"de\" + \" \" + \"concatenacion\")\n",
    "# Resultado: Print de concatenacion"
   ]
  },
  {
   "cell_type": "markdown",
   "id": "f325c441",
   "metadata": {},
   "source": [
    "## 4. ⚙️ Usar el parámetro `sep`\n",
    "\n",
    "El parámetro `sep` (de *separator*) te permite definir cómo separar los elementos dentro de `print()`.\n",
    "\n",
    "```python\n",
    "print(\"Print\", \"con\", \"parametro\", \"sep\", sep=\", \")\n",
    "```"
   ]
  },
  {
   "cell_type": "code",
   "execution_count": 4,
   "id": "c9d1d20f",
   "metadata": {},
   "outputs": [
    {
     "name": "stdout",
     "output_type": "stream",
     "text": [
      "Print, con, parametro, sep\n"
     ]
    }
   ],
   "source": [
    "print(\"Print\", \"con\", \"parametro\", \"sep\", sep=\", \")"
   ]
  },
  {
   "cell_type": "markdown",
   "id": "49bc3d27",
   "metadata": {},
   "source": [
    "## 5. 🔚 Cambiar el final con `end`\n",
    "\n",
    "Por defecto, `print()` termina con un salto de línea. Con el parámetro `end`, puedes modificarlo.\n",
    "\n",
    "```python\n",
    "print(\"Print\", end=\" \")\n",
    "print(\"con parametro end\")\n",
    "```"
   ]
  },
  {
   "cell_type": "code",
   "execution_count": 5,
   "id": "eb041baa",
   "metadata": {},
   "outputs": [
    {
     "name": "stdout",
     "output_type": "stream",
     "text": [
      "Print con parametro end\n"
     ]
    }
   ],
   "source": [
    "print(\"Print\", end=\" \")\n",
    "print(\"con parametro end\")"
   ]
  },
  {
   "cell_type": "markdown",
   "id": "a11b7595",
   "metadata": {},
   "source": [
    "## 6. 🧠 Imprimir valores de variables\n",
    "\n",
    "Puedes incluir variables dentro del mensaje para mostrar resultados dinámicos.\n",
    "\n",
    "```python\n",
    "frase = \"Aprendo Python\"\n",
    "autor = \"Carlos\"\n",
    "print(\"Frase:\", frase, \"Autor:\", autor)\n",
    "```"
   ]
  },
  {
   "cell_type": "code",
   "execution_count": 6,
   "id": "4af20392",
   "metadata": {},
   "outputs": [
    {
     "name": "stdout",
     "output_type": "stream",
     "text": [
      "Frase: Aprendo Python Autor: Carlos\n"
     ]
    }
   ],
   "source": [
    "frase = \"Aprendo Python\"\n",
    "autor = \"Carlos\"\n",
    "print(\"Frase:\", frase, \"Autor:\", autor)"
   ]
  },
  {
   "cell_type": "markdown",
   "id": "5e340a6c",
   "metadata": {},
   "source": [
    "## 7. 🧵 Usar `f-strings` para formateo\n",
    "\n",
    "Las **f-strings** permiten insertar variables dentro del texto de forma legible y directa.\n",
    "\n",
    "```python\n",
    "frase = \"Aprendo Python\"\n",
    "autor = \"Carlos\"\n",
    "print(f\"Frase: {frase}, Autor: {autor}\")\n",
    "```"
   ]
  },
  {
   "cell_type": "code",
   "execution_count": 7,
   "id": "47be8c14",
   "metadata": {},
   "outputs": [
    {
     "name": "stdout",
     "output_type": "stream",
     "text": [
      "Frase: Aprendo Python, Autor: Carlos\n"
     ]
    }
   ],
   "source": [
    "frase = \"Aprendo Python\"\n",
    "autor = \"Carlos\"\n",
    "print(f\"Frase: {frase}, Autor: {autor}\")"
   ]
  },
  {
   "cell_type": "markdown",
   "id": "e21b0211",
   "metadata": {},
   "source": [
    "## 8. 🧩 Usar `format()`\n",
    "\n",
    "El método `.format()` también permite insertar valores en cadenas.\n",
    "\n",
    "```python\n",
    "frase = \"Aprendo Python\"\n",
    "autor = \"Carlos\"\n",
    "print(\"Frase: {}, Autor: {}\".format(frase, autor))\n",
    "```"
   ]
  },
  {
   "cell_type": "code",
   "execution_count": 8,
   "id": "a6010715",
   "metadata": {},
   "outputs": [
    {
     "name": "stdout",
     "output_type": "stream",
     "text": [
      "Frase: Aprendo Python, Autor: Carlos\n"
     ]
    }
   ],
   "source": [
    "frase = \"Aprendo Python\"\n",
    "autor = \"Carlos\"\n",
    "print(\"Frase: {}, Autor: {}\".format(frase, autor))"
   ]
  },
  {
   "cell_type": "markdown",
   "id": "92243ffc",
   "metadata": {},
   "source": [
    "## 9. 🔢 Formato numérico específico\n",
    "\n",
    "Puedes controlar la forma en que se muestran números, como limitar los decimales.\n",
    "\n",
    "```python\n",
    "valor = 3.14159\n",
    "print(\"Valor: {:.2f}\".format(valor))\n",
    "```"
   ]
  },
  {
   "cell_type": "code",
   "execution_count": 9,
   "id": "59563e00",
   "metadata": {},
   "outputs": [
    {
     "name": "stdout",
     "output_type": "stream",
     "text": [
      "Valor: 3.14\n"
     ]
    }
   ],
   "source": [
    "valor = 3.14159\n",
    "print(\"Valor: {:.2f}\".format(valor))"
   ]
  },
  {
   "cell_type": "markdown",
   "id": "1cb9cc64",
   "metadata": {},
   "source": [
    "## 10. 📏 Saltos de línea y caracteres especiales\n",
    "\n",
    "Puedes usar **secuencias de escape** para controlar cómo se imprime el texto:\n",
    "\n",
    "### 🔹 Salto de línea:\n",
    "\n",
    "```python\n",
    "print(\"Hola\\nmundo\")\n",
    "```\n",
    "### 🔹 Comillas dentro de cadenas:\n",
    "\n",
    "```python\n",
    "print('Hola soy \\'Carlos\\'')\n",
    "```"
   ]
  },
  {
   "cell_type": "code",
   "execution_count": 10,
   "id": "93672b5f",
   "metadata": {},
   "outputs": [
    {
     "name": "stdout",
     "output_type": "stream",
     "text": [
      "Hola\n",
      "mundo\n",
      "Hola soy 'Carlos'\n"
     ]
    }
   ],
   "source": [
    "print(\"Hola\\nmundo\")\n",
    "print('Hola soy \\'Carlos\\'')"
   ]
  },
  {
   "cell_type": "markdown",
   "id": "1665c72b",
   "metadata": {},
   "source": [
    "### 🔹 Rutas en Windows:\n",
    "\n",
    "```python\n",
    "print(\"La ruta es: C:\\\\Users\\\\Carlos\\\\Escritorio\\\\archivo.txt\")\n",
    "```"
   ]
  },
  {
   "cell_type": "code",
   "execution_count": 11,
   "id": "c19deb3c",
   "metadata": {},
   "outputs": [
    {
     "name": "stdout",
     "output_type": "stream",
     "text": [
      "La ruta es: C:\\Users\\Carlos\\Escritorio\\archivo.txt\n"
     ]
    }
   ],
   "source": [
    "print(\"La ruta es: C:\\\\Users\\\\Carlos\\\\Escritorio\\\\archivo.txt\")"
   ]
  },
  {
   "cell_type": "markdown",
   "id": "466c7d84",
   "metadata": {},
   "source": [
    "## 🧠 Conclusión\n",
    "\n",
    "Dominar `print()` es clave en tus primeros pasos con Python. Desde salidas simples hasta formateo complejo, esta función será tu aliada para comunicarte con el usuario, revisar variables y estructurar resultados."
   ]
  }
 ],
 "metadata": {
  "kernelspec": {
   "display_name": "Python 3",
   "language": "python",
   "name": "python3"
  },
  "language_info": {
   "codemirror_mode": {
    "name": "ipython",
    "version": 3
   },
   "file_extension": ".py",
   "mimetype": "text/x-python",
   "name": "python",
   "nbconvert_exporter": "python",
   "pygments_lexer": "ipython3",
   "version": "3.12.1"
  }
 },
 "nbformat": 4,
 "nbformat_minor": 5
}
