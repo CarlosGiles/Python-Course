{
 "cells": [
  {
   "cell_type": "markdown",
   "id": "84143122",
   "metadata": {},
   "source": [
    "# Tipos de datos básicos en Python: enteros, flotantes y booleanos."
   ]
  },
  {
   "cell_type": "markdown",
   "id": "3da0ef44",
   "metadata": {},
   "source": [
    "## 🧠 ¿Qué es un tipo de dato?\n",
    "\n",
    "Un **tipo de dato** define el tipo de valor que una variable puede almacenar y qué operaciones se pueden realizar con él.\n",
    "\n",
    "En Python, los tipos de datos se asignan automáticamente (es un lenguaje de *tipado dinámico*), pero puedes usar `type()` para verificarlos."
   ]
  },
  {
   "cell_type": "markdown",
   "id": "bb290465",
   "metadata": {},
   "source": [
    "## 🔢 1. Enteros (`int`)\n",
    "\n",
    "### ✅ Definición:\n",
    "\n",
    "Son **números enteros** sin punto decimal.\n",
    "\n",
    "```python\n",
    "a = 5\n",
    "b = -42\n",
    "c = 0\n",
    "```"
   ]
  },
  {
   "cell_type": "code",
   "execution_count": 2,
   "id": "a8266f54",
   "metadata": {},
   "outputs": [
    {
     "data": {
      "text/plain": [
       "int"
      ]
     },
     "execution_count": 2,
     "metadata": {},
     "output_type": "execute_result"
    }
   ],
   "source": [
    "a = 5\n",
    "b = -42\n",
    "type(a)"
   ]
  },
  {
   "cell_type": "markdown",
   "id": "79577322",
   "metadata": {},
   "source": [
    "### 📌 Operaciones comunes:\n",
    "\n",
    "```python\n",
    "print(2 + 3)   # 5\n",
    "print(5 - 1)   # 4\n",
    "print(4 * 6)   # 24\n",
    "print(7 // 2)  # 3 (división entera)\n",
    "print(7 % 2)   # 1 (módulo o residuo)\n",
    "print(2 ** 3)  # 8 (potencia)\n",
    "```"
   ]
  },
  {
   "cell_type": "code",
   "execution_count": 3,
   "id": "2f60136c",
   "metadata": {},
   "outputs": [
    {
     "name": "stdout",
     "output_type": "stream",
     "text": [
      "-37\n"
     ]
    }
   ],
   "source": [
    "print(a + b)"
   ]
  },
  {
   "cell_type": "markdown",
   "id": "12b22dc4",
   "metadata": {},
   "source": [
    "## 🌡️ 2. Flotantes (`float`)\n",
    "\n",
    "### ✅ Definición:\n",
    "\n",
    "Son **números reales con decimales** (con punto `.` como separador).\n",
    "\n",
    "```python\n",
    "pi = 3.1416\n",
    "temperatura = -5.3\n",
    "```"
   ]
  },
  {
   "cell_type": "code",
   "execution_count": 4,
   "id": "8977e0a5",
   "metadata": {},
   "outputs": [],
   "source": [
    "pi = 3.1416\n",
    "temperatura = -5.3"
   ]
  },
  {
   "cell_type": "markdown",
   "id": "86b4a677",
   "metadata": {},
   "source": [
    "### 📌 Operaciones comunes:\n",
    "\n",
    "```python\n",
    "print(7 / 2)   # 3.5 (división real)\n",
    "print(3.0 + 2.5)  # 5.5\n",
    "print(type(4.0))  # <class 'float'>\n",
    "```"
   ]
  },
  {
   "cell_type": "code",
   "execution_count": 5,
   "id": "62724c07",
   "metadata": {},
   "outputs": [
    {
     "name": "stdout",
     "output_type": "stream",
     "text": [
      "3.5\n",
      "5.5\n",
      "<class 'float'>\n"
     ]
    }
   ],
   "source": [
    "print(7 / 2)   # 3.5 (división real)\n",
    "print(3.0 + 2.5)  # 5.5\n",
    "print(type(4.0))  # <class 'float'>"
   ]
  },
  {
   "cell_type": "markdown",
   "id": "370d4d7f",
   "metadata": {},
   "source": [
    "## 🔘 3. Booleanos (`bool`)\n",
    "\n",
    "### ✅ Definición:\n",
    "\n",
    "Son valores **lógicos**: `True` o `False`.\n",
    "\n",
    "```python\n",
    "es_mayor = True\n",
    "es_activo = False\n",
    "```"
   ]
  },
  {
   "cell_type": "code",
   "execution_count": 6,
   "id": "026b7e72",
   "metadata": {},
   "outputs": [
    {
     "data": {
      "text/plain": [
       "True"
      ]
     },
     "execution_count": 6,
     "metadata": {},
     "output_type": "execute_result"
    }
   ],
   "source": [
    "5 > 3  # True"
   ]
  },
  {
   "cell_type": "markdown",
   "id": "2580fb11",
   "metadata": {},
   "source": [
    "### 📌 Operaciones comunes:\n",
    "\n",
    "```python\n",
    "print(5 > 2)       # True\n",
    "print(3 == 4)      # False\n",
    "print(True and False)  # False\n",
    "print(True or False)   # True\n",
    "print(not True)    # False\n",
    "```"
   ]
  },
  {
   "cell_type": "code",
   "execution_count": 7,
   "id": "d2bc9899",
   "metadata": {},
   "outputs": [
    {
     "name": "stdout",
     "output_type": "stream",
     "text": [
      "True\n",
      "False\n",
      "False\n",
      "True\n",
      "False\n"
     ]
    }
   ],
   "source": [
    "print(5 > 2)       # True\n",
    "print(3 == 4)      # False\n",
    "print(True and False)  # False\n",
    "print(True or False)   # True\n",
    "print(not True)    # False"
   ]
  },
  {
   "cell_type": "markdown",
   "id": "0c22bec7",
   "metadata": {},
   "source": [
    "## 🧪 Ejemplo práctico combinado\n",
    "\n",
    "```python\n",
    "edad = 18\n",
    "mayor_edad = edad >= 18\n",
    "print(\"¿Es mayor de edad?\", mayor_edad)  # True\n",
    "```"
   ]
  },
  {
   "cell_type": "code",
   "execution_count": 8,
   "id": "498b93ce",
   "metadata": {},
   "outputs": [
    {
     "name": "stdout",
     "output_type": "stream",
     "text": [
      "¿Es mayor de edad? True\n"
     ]
    }
   ],
   "source": [
    "edad = 18\n",
    "mayor_edad = edad >= 18\n",
    "print(\"¿Es mayor de edad?\", mayor_edad)  # True"
   ]
  },
  {
   "cell_type": "markdown",
   "id": "2e8cfff5",
   "metadata": {},
   "source": [
    "## 📋 Comparación resumen\n",
    "\n",
    "| Tipo    | Ejemplo         | Operaciones comunes               |\n",
    "| ------- | --------------- | --------------------------------- |\n",
    "| `int`   | `4`, `-10`      | `+`, `-`, `*`, `//`, `%`, `**`    |\n",
    "| `float` | `3.14`, `-0.5`  | `+`, `-`, `*`, `/`, `round()`     |\n",
    "| `bool`  | `True`, `False` | `and`, `or`, `not`, comparaciones |"
   ]
  }
 ],
 "metadata": {
  "kernelspec": {
   "display_name": "Python 3",
   "language": "python",
   "name": "python3"
  },
  "language_info": {
   "codemirror_mode": {
    "name": "ipython",
    "version": 3
   },
   "file_extension": ".py",
   "mimetype": "text/x-python",
   "name": "python",
   "nbconvert_exporter": "python",
   "pygments_lexer": "ipython3",
   "version": "3.12.1"
  }
 },
 "nbformat": 4,
 "nbformat_minor": 5
}
