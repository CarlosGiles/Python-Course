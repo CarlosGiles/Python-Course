{
 "cells": [
  {
   "cell_type": "markdown",
   "id": "9d11b8ff",
   "metadata": {},
   "source": [
    "# Manipulación de Listas en Python\n",
    "\n",
    "Las **listas** son uno de los tipos de datos más versátiles en Python. Permiten almacenar **una colección ordenada y modificable de elementos**, que pueden ser de cualquier tipo: números, cadenas, booleanos, incluso otras listas."
   ]
  },
  {
   "cell_type": "markdown",
   "id": "a079d8c8",
   "metadata": {},
   "source": [
    "## 1. 🛠️ **Creación de listas**\n",
    "\n",
    "### 📌 Sintaxis básica\n",
    "\n",
    "```python\n",
    "mi_lista = [1, 2, 3, 4]\n",
    "nombres = [\"Ana\", \"Luis\", \"Pedro\"]\n",
    "mixta = [1, \"Hola\", True, 3.14]\n",
    "```\n",
    "\n",
    "También puedes crear una lista vacía:\n",
    "\n",
    "```python\n",
    "vacía = []\n",
    "```\n",
    "\n",
    "O usando la función `list()`:\n",
    "\n",
    "```python\n",
    "otra = list(\"abc\")  # ['a', 'b', 'c']\n",
    "```"
   ]
  },
  {
   "cell_type": "code",
   "execution_count": 2,
   "id": "c4631028",
   "metadata": {},
   "outputs": [
    {
     "name": "stdout",
     "output_type": "stream",
     "text": [
      "[1, 2, 3, 4]\n",
      "['Ana', 'Luis', 'Pedro']\n",
      "[1, 'Hola', True, 3.14]\n"
     ]
    }
   ],
   "source": [
    "mi_lista = [1, 2, 3, 4]\n",
    "nombres = [\"Ana\", \"Luis\", \"Pedro\"]\n",
    "mixta = [1, \"Hola\", True, 3.14]\n",
    "\n",
    "print(mi_lista, nombres, mixta, sep=\"\\n\")"
   ]
  },
  {
   "cell_type": "markdown",
   "id": "4693bbe8",
   "metadata": {},
   "source": [
    "## 2. 🔢 **Indexación**\n",
    "\n",
    "Python usa índices para acceder a los elementos de una lista. **Empiezan desde 0**.\n",
    "\n",
    "```python\n",
    "colores = [\"rojo\", \"verde\", \"azul\"]\n",
    "\n",
    "print(colores[0])    # 'rojo'\n",
    "print(colores[-1])   # 'azul' (último elemento)\n",
    "```"
   ]
  },
  {
   "cell_type": "code",
   "execution_count": 3,
   "id": "9cb42a3b",
   "metadata": {},
   "outputs": [
    {
     "name": "stdout",
     "output_type": "stream",
     "text": [
      "rojo\n",
      "azul\n"
     ]
    }
   ],
   "source": [
    "colores = [\"rojo\", \"verde\", \"azul\"]\n",
    "\n",
    "print(colores[0])    # 'rojo'\n",
    "print(colores[-1])   # 'azul' (último elemento)"
   ]
  },
  {
   "cell_type": "markdown",
   "id": "7000eb40",
   "metadata": {},
   "source": [
    "### 🎯 Slicing (rebanado):\n",
    "\n",
    "```python\n",
    "print(colores[0:2])  # ['rojo', 'verde']\n",
    "print(colores[:])    # copia completa\n",
    "print(colores[::-1]) # ['azul', 'verde', 'rojo'] (invertida)\n",
    "```"
   ]
  },
  {
   "cell_type": "code",
   "execution_count": 4,
   "id": "34fdb688",
   "metadata": {},
   "outputs": [
    {
     "name": "stdout",
     "output_type": "stream",
     "text": [
      "['rojo', 'verde']\n",
      "['rojo', 'verde', 'azul']\n",
      "['azul', 'verde', 'rojo']\n"
     ]
    }
   ],
   "source": [
    "print(colores[0:2])  # ['rojo', 'verde']\n",
    "print(colores[:])    # copia completa\n",
    "print(colores[::-1]) # ['azul', 'verde', 'rojo'] (invertida)"
   ]
  },
  {
   "cell_type": "markdown",
   "id": "8ee73728",
   "metadata": {},
   "source": [
    "## 3. 🧰 **Métodos comunes de listas**\n",
    "\n",
    "### 📌 Añadir elementos\n",
    "\n",
    "```python\n",
    "lista = [1, 2, 3]\n",
    "lista.append(4)          # [1, 2, 3, 4]\n",
    "lista.insert(1, \"nuevo\") # [1, 'nuevo', 2, 3, 4]\n",
    "```\n",
    "\n",
    "### 📌 Eliminar elementos\n",
    "\n",
    "```python\n",
    "lista.remove(\"nuevo\")  # Elimina la primera ocurrencia\n",
    "lista.pop()            # Elimina el último\n",
    "lista.pop(0)           # Elimina por índice\n",
    "```\n",
    "\n",
    "### 📌 Buscar y contar\n",
    "\n",
    "```python\n",
    "nombres = [\"Ana\", \"Luis\", \"Ana\", \"Pedro\"]\n",
    "print(nombres.count(\"Ana\"))  # 2\n",
    "print(nombres.index(\"Pedro\"))  # 3\n",
    "```\n",
    "\n",
    "### 📌 Ordenar y revertir\n",
    "\n",
    "```python\n",
    "numeros = [3, 1, 4, 2]\n",
    "numeros.sort()        # [1, 2, 3, 4]\n",
    "numeros.reverse()     # [4, 3, 2, 1]\n",
    "```"
   ]
  },
  {
   "cell_type": "markdown",
   "id": "73e8e391",
   "metadata": {},
   "source": [
    "## 4. 🧠 Ejemplo práctico\n",
    "\n",
    "```python\n",
    "frutas = [\"manzana\", \"banana\", \"cereza\"]\n",
    "frutas.append(\"durazno\")\n",
    "frutas.remove(\"banana\")\n",
    "print(frutas[1])       # 'cereza'\n",
    "print(frutas)          # ['manzana', 'cereza', 'durazno']\n",
    "```"
   ]
  },
  {
   "cell_type": "code",
   "execution_count": 5,
   "id": "5eba5394",
   "metadata": {},
   "outputs": [
    {
     "name": "stdout",
     "output_type": "stream",
     "text": [
      "cereza\n",
      "['manzana', 'cereza', 'durazno']\n"
     ]
    }
   ],
   "source": [
    "frutas = [\"manzana\", \"banana\", \"cereza\"]\n",
    "frutas.append(\"durazno\")\n",
    "frutas.remove(\"banana\")\n",
    "print(frutas[1])       # 'cereza'\n",
    "print(frutas)          # ['manzana', 'cereza', 'durazno']"
   ]
  },
  {
   "cell_type": "markdown",
   "id": "9e513fff",
   "metadata": {},
   "source": [
    "## 5. 📋 Resumen visual\n",
    "\n",
    "| Operación           | Método o Ejemplo | Resultado                       |\n",
    "| ------------------- | ---------------- | ------------------------------- |\n",
    "| Crear lista         | `[]`, `list()`   | `[]` o `['a', 'b']`             |\n",
    "| Acceder a elemento  | `lista[0]`       | Primer elemento                 |\n",
    "| Agregar elemento    | `append(x)`      | Añade al final                  |\n",
    "| Insertar en índice  | `insert(i, x)`   | Inserta en posición `i`         |\n",
    "| Eliminar por valor  | `remove(x)`      | Elimina primera ocurrencia      |\n",
    "| Eliminar por índice | `pop(i)`         | Elimina y devuelve el elemento  |\n",
    "| Contar ocurrencias  | `count(x)`       | Número de veces que aparece `x` |\n",
    "| Encontrar índice    | `index(x)`       | Primera posición de `x`         |\n",
    "| Ordenar             | `sort()`         | Ordena la lista                 |\n",
    "| Invertir            | `reverse()`      | Invierte el orden               |\n"
   ]
  }
 ],
 "metadata": {
  "kernelspec": {
   "display_name": "Python 3",
   "language": "python",
   "name": "python3"
  },
  "language_info": {
   "codemirror_mode": {
    "name": "ipython",
    "version": 3
   },
   "file_extension": ".py",
   "mimetype": "text/x-python",
   "name": "python",
   "nbconvert_exporter": "python",
   "pygments_lexer": "ipython3",
   "version": "3.12.1"
  }
 },
 "nbformat": 4,
 "nbformat_minor": 5
}
