{
 "cells": [
  {
   "cell_type": "markdown",
   "id": "62f42b7c",
   "metadata": {},
   "source": [
    "# Strings y operaciones básicas\n"
   ]
  },
  {
   "cell_type": "markdown",
   "id": "4222eb1d",
   "metadata": {},
   "source": [
    "## 🧵 ¿Qué es una **cadena** en Python?\n",
    "\n",
    "Una **cadena** (o *string*) es una **secuencia de caracteres** que se representa entre comillas simples (`'`) o dobles (`\"`):\n",
    "\n",
    "```python\n",
    "mensaje = \"Hola mundo\"\n",
    "nombre = 'Carlos'\n",
    "```\n",
    "\n",
    "Las cadenas son **inmutables**, lo que significa que no puedes cambiar una parte de ellas directamente.\n",
    "\n",
    "---"
   ]
  },
  {
   "cell_type": "markdown",
   "id": "3d104c0a",
   "metadata": {},
   "source": [
    "## 🛠️ Operaciones básicas con cadenas\n"
   ]
  },
  {
   "cell_type": "markdown",
   "id": "4a44861a",
   "metadata": {},
   "source": [
    "### 1. ✅ **Concatenación** (`+`)\n",
    "\n",
    "Une cadenas:\n",
    "\n",
    "```python\n",
    "nombre = \"Carlos\"\n",
    "saludo = \"Hola \" + nombre\n",
    "print(saludo)  # Hola Carlos\n",
    "```"
   ]
  },
  {
   "cell_type": "markdown",
   "id": "060aea83",
   "metadata": {},
   "source": [
    "### 2. 🔁 **Repetición** (`*`)\n",
    "\n",
    "Repite la cadena un número de veces:\n",
    "\n",
    "```python\n",
    "print(\"A\" * 5)  # AAAAA\n",
    "```"
   ]
  },
  {
   "cell_type": "markdown",
   "id": "0890c430",
   "metadata": {},
   "source": [
    "### 3. 📏 **Longitud** (`len()`)\n",
    "\n",
    "Devuelve el número de caracteres:\n",
    "\n",
    "```python\n",
    "frase = \"Python\"\n",
    "print(len(frase))  # 6\n",
    "```"
   ]
  },
  {
   "cell_type": "markdown",
   "id": "042234d2",
   "metadata": {},
   "source": [
    "### 4. 🔤 **Indexación** (`[]`)\n",
    "\n",
    "Accede a caracteres individuales:\n",
    "\n",
    "```python\n",
    "texto = \"Python\"\n",
    "print(texto[0])    # P (primer carácter)\n",
    "print(texto[-1])   # n (último carácter)\n",
    "```"
   ]
  },
  {
   "cell_type": "markdown",
   "id": "6cbce97e",
   "metadata": {},
   "source": [
    "### 5. ✂️ **Slicing** (subcadenas)\n",
    "\n",
    "Extrae partes de una cadena:\n",
    "\n",
    "```python\n",
    "print(texto[0:3])   # Pyt (desde el índice 0 al 2)\n",
    "print(texto[::2])   # Pto (salto de 2)\n",
    "```"
   ]
  },
  {
   "cell_type": "markdown",
   "id": "c74fade0",
   "metadata": {},
   "source": [
    "## 🔁 Métodos útiles para cadenas\n",
    "\n",
    "```python\n",
    "nombre = \"carlos\"\n",
    "\n",
    "print(nombre.upper())      # \"CARLOS\"\n",
    "print(nombre.capitalize()) # \"Carlos\"\n",
    "print(nombre.lower())      # \"carlos\"\n",
    "print(nombre.startswith(\"c\"))  # True\n",
    "print(nombre.endswith(\"s\"))    # True\n",
    "print(\"  hola  \".strip())      # \"hola\"\n",
    "print(\"uno,dos,tres\".split(\",\"))  # ['uno', 'dos', 'tres']\n",
    "print(\" \".join([\"Hola\", \"mundo\"]))  # \"Hola mundo\"\n",
    "```"
   ]
  },
  {
   "cell_type": "markdown",
   "id": "f52a6eb4",
   "metadata": {},
   "source": [
    "## 🧪 Ejemplo práctico\n",
    "\n",
    "```python\n",
    "nombre = input(\"¿Cómo te llamas? \")\n",
    "print(\"Bienvenido, \" + nombre.upper())\n",
    "```"
   ]
  },
  {
   "cell_type": "code",
   "execution_count": null,
   "id": "55a49038",
   "metadata": {},
   "outputs": [
    {
     "name": "stdout",
     "output_type": "stream",
     "text": [
      "Bienvenido, CARLOS\n"
     ]
    }
   ],
   "source": [
    "nombre = input(\"¿Cómo te llamas? \") # introduce: carlos\n",
    "print(\"Bienvenido, \" + nombre.upper())"
   ]
  },
  {
   "cell_type": "markdown",
   "id": "6c9d6769",
   "metadata": {},
   "source": [
    "## 🧩 Ejercicio interactivo\n",
    "\n",
    "¿Puedes decir qué imprime este código?\n",
    "\n",
    "```python\n",
    "frase = \"Python es divertido\"\n",
    "print(frase[7:9] + frase[-9:])\n",
    "```"
   ]
  },
  {
   "cell_type": "code",
   "execution_count": 2,
   "id": "51cb02d1",
   "metadata": {},
   "outputs": [
    {
     "name": "stdout",
     "output_type": "stream",
     "text": [
      "esdivertido\n"
     ]
    }
   ],
   "source": [
    "frase = \"Python es divertido\"\n",
    "print(frase[7:9] + frase[-9:])"
   ]
  }
 ],
 "metadata": {
  "kernelspec": {
   "display_name": "Python 3",
   "language": "python",
   "name": "python3"
  },
  "language_info": {
   "codemirror_mode": {
    "name": "ipython",
    "version": 3
   },
   "file_extension": ".py",
   "mimetype": "text/x-python",
   "name": "python",
   "nbconvert_exporter": "python",
   "pygments_lexer": "ipython3",
   "version": "3.12.1"
  }
 },
 "nbformat": 4,
 "nbformat_minor": 5
}
