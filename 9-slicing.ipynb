{
 "cells": [
  {
   "cell_type": "markdown",
   "id": "c3ef1cdb",
   "metadata": {},
   "source": [
    "# 🧠 Copiar listas en Python con slicing sin compartir memoria\n",
    "\n",
    "Cuando trabajas con listas en Python, es importante entender cómo hacer **copias independientes**, especialmente si planeas **modificar la copia sin afectar el original**.\n",
    "\n",
    "---\n",
    "\n",
    "## 📌 El problema: asignación por referencia\n",
    "\n",
    "Cuando igualas una lista a otra, ambas variables **apuntan a la misma lista en memoria**.\n",
    "\n",
    "```python\n",
    "original = [1, 2, 3]\n",
    "copia = original\n",
    "\n",
    "copia.append(4) # Modificas la copia\n",
    "# imprimes la original\n",
    "print(original)  # [1, 2, 3, 4] ❌ ¡Se modificó también!\n",
    "```"
   ]
  },
  {
   "cell_type": "code",
   "execution_count": 4,
   "id": "c59b24c0",
   "metadata": {},
   "outputs": [
    {
     "name": "stdout",
     "output_type": "stream",
     "text": [
      "[1, 2, 3, 4]\n"
     ]
    }
   ],
   "source": [
    "original = [1, 2, 3]\n",
    "copia = original\n",
    "\n",
    "copia.append(4)\n",
    "print(original)  # [1, 2, 3, 4] ❌ ¡Se modificó también!"
   ]
  },
  {
   "cell_type": "markdown",
   "id": "043004fb",
   "metadata": {},
   "source": [
    "Esto ocurre porque `copia` no es realmente una copia, sino una **referencia** a la misma lista."
   ]
  },
  {
   "cell_type": "markdown",
   "id": "a7393f04",
   "metadata": {},
   "source": [
    "## ✅ La solución: usar slicing `[:]`\n",
    "\n",
    "Para crear una **copia superficial independiente** de una lista, puedes usar **rebanado completo (`[:]`)**:\n",
    "\n",
    "```python\n",
    "original = [1, 2, 3]\n",
    "copia = original[:]  # copia con slicing\n",
    "\n",
    "copia.append(4) # modifcas la copia\n",
    "print(\"Original:\", original)  # [1, 2, 3]\n",
    "print(\"Copia:\", copia)        # [1, 2, 3, 4]\n",
    "```"
   ]
  },
  {
   "cell_type": "code",
   "execution_count": 5,
   "id": "e062d81b",
   "metadata": {},
   "outputs": [
    {
     "name": "stdout",
     "output_type": "stream",
     "text": [
      "Original: [1, 2, 3]\n",
      "Copia: [1, 2, 3, 4]\n"
     ]
    }
   ],
   "source": [
    "original = [1, 2, 3]\n",
    "copia = original[:]  # copia con slicing\n",
    "\n",
    "copia.append(4)\n",
    "print(\"Original:\", original)  # [1, 2, 3]\n",
    "print(\"Copia:\", copia)        # [1, 2, 3, 4]"
   ]
  },
  {
   "cell_type": "markdown",
   "id": "c07ff120",
   "metadata": {},
   "source": [
    "Ahora ambas listas están en **lugares distintos en memoria**, por lo que modificar una **no afecta a la otra**."
   ]
  },
  {
   "cell_type": "markdown",
   "id": "8b073832",
   "metadata": {},
   "source": [
    "## 🧪 ¿Cómo verificar que son objetos distintos?\n",
    "\n",
    "Usa `is` para comprobar si apuntan al mismo objeto:\n",
    "\n",
    "```python\n",
    "print(original is copia)  # False ✅\n",
    "```"
   ]
  },
  {
   "cell_type": "code",
   "execution_count": 6,
   "id": "dce2818e",
   "metadata": {},
   "outputs": [
    {
     "name": "stdout",
     "output_type": "stream",
     "text": [
      "False\n"
     ]
    }
   ],
   "source": [
    "print(original is copia)  # False ✅"
   ]
  },
  {
   "cell_type": "markdown",
   "id": "afa6b8cc",
   "metadata": {},
   "source": [
    "## 🔍 Alternativas a slicing\n",
    "\n",
    "| Método                 | Descripción                            |\n",
    "| ---------------------- | -------------------------------------- |\n",
    "| `lista[:]`             | Copia con slicing                      |\n",
    "| `list(lista)`          | Copia usando el constructor            |\n",
    "| `copy.copy(lista)`     | Copia superficial con el módulo `copy` |\n",
    "| `copy.deepcopy(lista)` | Copia profunda (para listas anidadas)  |\n",
    "\n",
    "> Nota: `copy.deepcopy()` es necesario cuando la lista contiene otras listas u objetos mutables."
   ]
  },
  {
   "cell_type": "markdown",
   "id": "c4ac8b2a",
   "metadata": {},
   "source": [
    "## 🎯 Resumen\n",
    "\n",
    "* `copia = lista[:]` es la forma más rápida y pythonica de **copiar una lista simple sin compartir memoria**.\n",
    "* A diferencia de la asignación directa, **crea una lista nueva**.\n",
    "* Ideal para listas **no anidadas**."
   ]
  }
 ],
 "metadata": {
  "kernelspec": {
   "display_name": "Python 3",
   "language": "python",
   "name": "python3"
  },
  "language_info": {
   "codemirror_mode": {
    "name": "ipython",
    "version": 3
   },
   "file_extension": ".py",
   "mimetype": "text/x-python",
   "name": "python",
   "nbconvert_exporter": "python",
   "pygments_lexer": "ipython3",
   "version": "3.12.1"
  }
 },
 "nbformat": 4,
 "nbformat_minor": 5
}
