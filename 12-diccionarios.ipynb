{
 "cells": [
  {
   "cell_type": "markdown",
   "id": "12b7aaa7",
   "metadata": {},
   "source": [
    "# 🗂️ Diccionarios en Python – Uso y Manipulación de Datos\n",
    "\n",
    "**Temas**: Qué son – Cómo se usan – Métodos comunes – Ejemplos\n",
    "\n",
    "---\n",
    "\n",
    "## 🧠 ¿Qué es un diccionario?\n",
    "\n",
    "Un **diccionario** en Python es una colección de datos **no ordenada (hasta Python 3.6), modificable y con pares clave-valor**.\n",
    "\n",
    "### 📌 Ejemplo simple:\n",
    "\n",
    "```python\n",
    "persona = {\n",
    "    \"nombre\": \"Carlos\",\n",
    "    \"edad\": 30,\n",
    "    \"ciudad\": \"México\"\n",
    "}\n",
    "```\n",
    "\n",
    "* `\"nombre\"`, `\"edad\"` y `\"ciudad\"` son las **claves**.\n",
    "* `\"Carlos\"`, `30`, `\"México\"` son los **valores**."
   ]
  },
  {
   "cell_type": "code",
   "execution_count": 4,
   "id": "54d6b3bb",
   "metadata": {},
   "outputs": [
    {
     "data": {
      "text/plain": [
       "{'nombre': 'Carlos', 'edad': 30, 'ciudad': 'México'}"
      ]
     },
     "execution_count": 4,
     "metadata": {},
     "output_type": "execute_result"
    }
   ],
   "source": [
    "persona = {\n",
    "    \"nombre\": \"Carlos\",\n",
    "    \"edad\": 30,\n",
    "    \"ciudad\": \"México\"\n",
    "}\n",
    "persona"
   ]
  },
  {
   "cell_type": "markdown",
   "id": "2da39992",
   "metadata": {},
   "source": [
    "## 🛠️ ¿Cómo se accede a un valor?\n",
    "\n",
    "```python\n",
    "print(persona[\"nombre\"])  # Carlos\n",
    "```\n",
    "\n",
    "### ⚠️ Si la clave no existe:\n",
    "\n",
    "```python\n",
    "# print(persona[\"correo\"])  # ❌ Lanza KeyError\n",
    "```\n",
    "\n",
    "Para evitarlo:\n",
    "\n",
    "```python\n",
    "print(persona.get(\"correo\", \"No registrado\"))  # ✅ Devuelve mensaje por defecto\n",
    "```"
   ]
  },
  {
   "cell_type": "code",
   "execution_count": 5,
   "id": "d0d9baf1",
   "metadata": {},
   "outputs": [
    {
     "name": "stdout",
     "output_type": "stream",
     "text": [
      "Carlos\n",
      "No registrado\n"
     ]
    }
   ],
   "source": [
    "print(persona[\"nombre\"])  # Carlos\n",
    "print(persona.get(\"correo\", \"No registrado\"))  # ✅ Devuelve mensaje por defecto"
   ]
  },
  {
   "cell_type": "markdown",
   "id": "9cbad67d",
   "metadata": {},
   "source": [
    "## ✏️ Agregar y modificar elementos\n",
    "\n",
    "```python\n",
    "persona[\"correo\"] = \"carlos@example.com\"  # Nuevo campo\n",
    "persona[\"edad\"] = 31                      # Actualiza valor\n",
    "```"
   ]
  },
  {
   "cell_type": "code",
   "execution_count": 7,
   "id": "45af4f51",
   "metadata": {},
   "outputs": [
    {
     "data": {
      "text/plain": [
       "{'nombre': 'Carlos',\n",
       " 'edad': 31,\n",
       " 'ciudad': 'México',\n",
       " 'correo': 'carlos@example.com'}"
      ]
     },
     "execution_count": 7,
     "metadata": {},
     "output_type": "execute_result"
    }
   ],
   "source": [
    "persona[\"correo\"] = \"carlos@example.com\"  # Nuevo campo\n",
    "persona[\"edad\"] = 31 \n",
    "persona"
   ]
  },
  {
   "cell_type": "markdown",
   "id": "cd1c73ba",
   "metadata": {},
   "source": [
    "## ❌ Eliminar elementos\n",
    "\n",
    "```python\n",
    "del persona[\"ciudad\"]\n",
    "persona.pop(\"correo\")\n",
    "```"
   ]
  },
  {
   "cell_type": "code",
   "execution_count": 8,
   "id": "38c404bc",
   "metadata": {},
   "outputs": [
    {
     "data": {
      "text/plain": [
       "{'nombre': 'Carlos', 'edad': 31}"
      ]
     },
     "execution_count": 8,
     "metadata": {},
     "output_type": "execute_result"
    }
   ],
   "source": [
    "del persona[\"ciudad\"]\n",
    "persona.pop(\"correo\")\n",
    "persona"
   ]
  },
  {
   "cell_type": "markdown",
   "id": "e18f5c10",
   "metadata": {},
   "source": [
    "## 🔄 Recorrer un diccionario\n",
    "\n",
    "### Claves:\n",
    "\n",
    "```python\n",
    "for clave in persona:\n",
    "    print(clave)\n",
    "```"
   ]
  },
  {
   "cell_type": "code",
   "execution_count": 13,
   "id": "257da089",
   "metadata": {},
   "outputs": [
    {
     "name": "stdout",
     "output_type": "stream",
     "text": [
      "nombre\n",
      "edad\n"
     ]
    }
   ],
   "source": [
    "for clave in persona:\n",
    "    print(clave)"
   ]
  },
  {
   "cell_type": "markdown",
   "id": "aa6cf00d",
   "metadata": {},
   "source": [
    "### Claves y valores:\n",
    "\n",
    "```python\n",
    "for clave, valor in persona.items():\n",
    "    print(clave, \"→\", valor)\n",
    "```"
   ]
  },
  {
   "cell_type": "code",
   "execution_count": 16,
   "id": "988b62bd",
   "metadata": {},
   "outputs": [
    {
     "name": "stdout",
     "output_type": "stream",
     "text": [
      "nombre → Carlos\n",
      "edad → 31\n"
     ]
    }
   ],
   "source": [
    "for clave, valor in persona.items():\n",
    "    print(clave, \"→\", valor)"
   ]
  },
  {
   "cell_type": "markdown",
   "id": "ab706f88",
   "metadata": {},
   "source": [
    "## Diccionarios con diccionarios\n",
    "\n",
    "Podemos crear diccionarios donde el `value` es un diccionario más:\n",
    "\n",
    "```python\n",
    "contactos = {\n",
    "    \"Carlos\": {\"apellido\": \"Giles\", \"altura\": 1.72, \"edad\": 33},\n",
    "    \"Diego\": {\"apellido\": \"Antesana\", \"altura\": 1.75, \"edad\": 32},\n",
    "    \"Paola\": {\"apellido\" \"Diaz\", \"altura\": 1.65, \"edad\": 30}\n",
    "}\n",
    "print(contactos[\"Diego\"])\n",
    "```"
   ]
  },
  {
   "cell_type": "code",
   "execution_count": null,
   "id": "387c0d4b",
   "metadata": {},
   "outputs": [
    {
     "name": "stdout",
     "output_type": "stream",
     "text": [
      "{'apellido': 'Antesana', 'altura': 1.75, 'edad': 32}\n"
     ]
    },
    {
     "ename": "",
     "evalue": "",
     "output_type": "error",
     "traceback": [
      "\u001b[1;31mEl kernel se bloqueó al ejecutar código en la celda actual o en una celda anterior. \n",
      "\u001b[1;31mRevise el código de las celdas para identificar una posible causa del error. \n",
      "\u001b[1;31mHaga clic <a href='https://aka.ms/vscodeJupyterKernelCrash'>aquí</a> para obtener más información. \n",
      "\u001b[1;31mVea Jupyter <a href='command:jupyter.viewOutput'>log</a> para obtener más detalles."
     ]
    }
   ],
   "source": [
    "contactos = {\n",
    "    \"Carlos\": {\"apellido\": \"Giles\",\n",
    "                \"altura\": 1.72, \n",
    "                \"edad\": 33},\n",
    "    \"Diego\": {\"apellido\": \"Antesana\",\n",
    "                \"altura\": 1.75,\n",
    "                \"edad\": 32},\n",
    "    \"Paola\": {\"apellido\": \"Diaz\",\n",
    "                \"altura\": 1.65,\n",
    "                \"edad\": 30}\n",
    "}\n",
    "print(contactos[\"Diego\"])"
   ]
  },
  {
   "cell_type": "markdown",
   "id": "571148cf",
   "metadata": {},
   "source": [
    "## 📚 Métodos útiles de diccionario\n",
    "\n",
    "| Método           | Descripción                               |\n",
    "| ---------------- | ----------------------------------------- |\n",
    "| `.get(clave)`    | Devuelve el valor o `None` si no existe   |\n",
    "| `.keys()`        | Lista de claves                           |\n",
    "| `.values()`      | Lista de valores                          |\n",
    "| `.items()`       | Lista de tuplas (clave, valor)            |\n",
    "| `.pop(clave)`    | Elimina y devuelve el valor de la clave   |\n",
    "| `.update({...})` | Agrega o actualiza varias claves a la vez |\n",
    "| `in`             | Verifica si existe una clave              |"
   ]
  },
  {
   "cell_type": "markdown",
   "id": "825fce45",
   "metadata": {},
   "source": [
    "## 🧪 Ejemplo práctico\n",
    "\n",
    "```python\n",
    "alumno = {\n",
    "    \"nombre\": \"Lucía\",\n",
    "    \"materias\": [\"Matemáticas\", \"Física\"],\n",
    "    \"promedio\": 9.1\n",
    "}\n",
    "\n",
    "print(f\"{alumno['nombre']} tiene un promedio de {alumno['promedio']}\")\n",
    "```\n",
    "\n",
    "**Resultado:**\n",
    "\n",
    "```\n",
    "Lucía tiene un promedio de 9.1\n",
    "```"
   ]
  },
  {
   "cell_type": "code",
   "execution_count": 17,
   "id": "89f18cf4",
   "metadata": {},
   "outputs": [
    {
     "name": "stdout",
     "output_type": "stream",
     "text": [
      "Lucía tiene un promedio de 9.1\n"
     ]
    }
   ],
   "source": [
    "alumno = {\n",
    "    \"nombre\": \"Lucía\",\n",
    "    \"materias\": [\"Matemáticas\", \"Física\"],\n",
    "    \"promedio\": 9.1\n",
    "}\n",
    "\n",
    "print(f\"{alumno['nombre']} tiene un promedio de {alumno['promedio']}\")"
   ]
  },
  {
   "cell_type": "markdown",
   "id": "73214744",
   "metadata": {},
   "source": [
    "## 🎯 ¿Cuándo usar un diccionario?\n",
    "\n",
    "* Cuando necesitas **relacionar datos** (por ejemplo: nombre → edad).\n",
    "* Cuando necesitas **acceso rápido por clave** (más eficiente que buscar en listas).\n",
    "* Para representar **estructuras tipo JSON** (como respuestas de APIs).\n",
    "\n",
    "---\n",
    "\n",
    "## 📋 Comparación rápida\n",
    "\n",
    "| Tipo        | Acceso por | Permite duplicados | Mutabilidad |\n",
    "| ----------- | ---------- | ------------------ | ----------- |\n",
    "| Lista       | Índice     | Sí                 | Sí          |\n",
    "| Diccionario | Clave      | No (claves únicas) | Sí          |\n"
   ]
  }
 ],
 "metadata": {
  "kernelspec": {
   "display_name": "Python 3",
   "language": "python",
   "name": "python3"
  },
  "language_info": {
   "codemirror_mode": {
    "name": "ipython",
    "version": 3
   },
   "file_extension": ".py",
   "mimetype": "text/x-python",
   "name": "python",
   "nbconvert_exporter": "python",
   "pygments_lexer": "ipython3",
   "version": "3.12.1"
  }
 },
 "nbformat": 4,
 "nbformat_minor": 5
}
