{
 "cells": [
  {
   "cell_type": "markdown",
   "id": "50715a7f",
   "metadata": {},
   "source": [
    "# 🔄 Iteración y Control de Flujo en Python\n",
    "\n",
    "**Temas**: `for` – `while` – `if` dentro de bucles – control del flujo (`break`, `continue`)\n",
    "\n",
    "---\n",
    "\n",
    "## 🧠 ¿Qué es un bucle?\n",
    "\n",
    "Un **bucle** permite ejecutar una serie de instrucciones **de manera repetitiva** mientras se cumpla una condición o se recorra una secuencia.\n",
    "\n",
    "---\n",
    "\n",
    "## 🔹 Bucle `for`: iteración sobre secuencias\n",
    "\n",
    "Usamos `for` cuando sabemos **cuántas veces queremos repetir** algo, o cuando **recorremos una estructura** (como listas, cadenas o rangos).\n",
    "\n",
    "### ✅ Ejemplo básico con lista:\n",
    "\n",
    "```python\n",
    "lista = [1, \"dos\", 3, \"cuatro\", 5]\n",
    "\n",
    "for i in lista:\n",
    "    print(f\"Aquí el valor de 'i' es: {i}\")\n",
    "\n",
    "print(\"Fin del bucle\")\n",
    "```\n",
    "\n",
    "### ✅ Ejemplo con `range()`:\n",
    "\n",
    "```python\n",
    "for i in range(1, 11):\n",
    "    print(f\"Número: {i}\")\n",
    "```\n",
    "\n",
    "---\n",
    "\n",
    "## 🔸 Condiciones `if` dentro de `for`\n",
    "\n",
    "Podemos usar `if` dentro del `for` para **filtrar o actuar según ciertos criterios**.\n",
    "\n",
    "### ✅ Ejemplo: imprimir solo los pares del 1 al 10\n",
    "\n",
    "```python\n",
    "for i in range(1, 11):\n",
    "    if i % 2 == 0:\n",
    "        print(f\"{i} es par\")\n",
    "```\n",
    "\n",
    "### ✅ Ejemplo: saltar un valor con `continue`\n",
    "\n",
    "```python\n",
    "for i in range(5):\n",
    "    if i == 2:\n",
    "        continue  # salta la iteración cuando i es 2\n",
    "    print(f\"i vale: {i}\")\n",
    "```\n",
    "\n",
    "---\n",
    "\n",
    "## 🔹 Bucle `while`: iteración controlada por condición\n",
    "\n",
    "Usamos `while` cuando **no sabemos cuántas veces se ejecutará** y queremos repetir algo **mientras una condición sea verdadera**.\n",
    "\n",
    "### ✅ Ejemplo: contar hasta 5\n",
    "\n",
    "```python\n",
    "contador = 1\n",
    "while contador <= 5:\n",
    "    print(f\"Contador: {contador}\")\n",
    "    contador += 1\n",
    "\n",
    "print(\"Fin del bucle while\")\n",
    "```\n",
    "\n",
    "---\n",
    "\n",
    "### ⚠️ ¡Cuidado con los bucles infinitos!\n",
    "\n",
    "```python\n",
    "# Esto no debe hacerse sin condición de salida:\n",
    "# while True:\n",
    "#     print(\"Esto se repite para siempre...\")\n",
    "```\n",
    "\n",
    "---\n",
    "\n",
    "## 🔸 Uso de `break` y `continue` en `while`\n",
    "\n",
    "### ✅ `break`: salir del bucle antes de tiempo\n",
    "\n",
    "```python\n",
    "x = 0\n",
    "while x < 10:\n",
    "    if x == 4:\n",
    "        break\n",
    "    print(x)\n",
    "    x += 1\n",
    "```\n",
    "\n",
    "### ✅ `continue`: saltar una vuelta\n",
    "\n",
    "```python\n",
    "x = 0\n",
    "while x < 5:\n",
    "    x += 1\n",
    "    if x == 3:\n",
    "        continue\n",
    "    print(x)\n",
    "```\n",
    "\n",
    "---\n",
    "\n",
    "## 📋 Comparación `for` vs `while`\n",
    "\n",
    "| Característica     | `for`                                  | `while`                              |\n",
    "| ------------------ | -------------------------------------- | ------------------------------------ |\n",
    "| Ideal para...      | Recorrer elementos, repeticiones fijas | Repetir hasta que algo cambie        |\n",
    "| Control            | Basado en secuencia (`range`, lista)   | Basado en condición (`True/False`)   |\n",
    "| Riesgo de infinito | Bajo                                   | Alto si no se actualiza la condición |\n",
    "\n",
    "---\n",
    "\n",
    "## 🧪 Ejemplo final combinado\n",
    "\n",
    "```python\n",
    "for i in range(10):\n",
    "    if i % 3 == 0:\n",
    "        print(f\"{i} es múltiplo de 3\")\n",
    "    else:\n",
    "        print(f\"{i} no lo es\")\n",
    "```"
   ]
  },
  {
   "cell_type": "markdown",
   "id": "7d4528ff",
   "metadata": {},
   "source": [
    "## Ejemplos"
   ]
  },
  {
   "cell_type": "code",
   "execution_count": 1,
   "id": "49878d70",
   "metadata": {},
   "outputs": [
    {
     "name": "stdout",
     "output_type": "stream",
     "text": [
      "Aquí el valor de 'i' es: 1\n",
      "Aquí el valor de 'i' es: dos\n",
      "Aquí el valor de 'i' es: 3\n",
      "Aquí el valor de 'i' es: cuatro\n",
      "Aquí el valor de 'i' es: 5\n",
      "Fin del bucle\n"
     ]
    }
   ],
   "source": [
    "lista = [1,\"dos\",3,\"cuatro\",5]\n",
    "\n",
    "for i in lista:\n",
    "    print(f\"Aquí el valor de 'i' es: {i}\")\n",
    "print(\"Fin del bucle\")"
   ]
  },
  {
   "cell_type": "code",
   "execution_count": 2,
   "id": "f8a6495b",
   "metadata": {},
   "outputs": [
    {
     "name": "stdout",
     "output_type": "stream",
     "text": [
      "Aquí el valor de 'i' es: 0\n",
      "Aquí el valor de 'i' es: 1\n",
      "Aquí el valor de 'i' es: 2\n",
      "Aquí el valor de 'i' es: 3\n",
      "Aquí el valor de 'i' es: 4\n",
      "Aquí el valor de 'i' es: 5\n",
      "Aquí el valor de 'i' es: 6\n",
      "Aquí el valor de 'i' es: 7\n",
      "Aquí el valor de 'i' es: 8\n",
      "Aquí el valor de 'i' es: 9\n",
      "Fin del bucle\n"
     ]
    }
   ],
   "source": [
    "for i in range(10):\n",
    "    print(f\"Aquí el valor de 'i' es: {i}\")\n",
    "print(\"Fin del bucle\")"
   ]
  },
  {
   "cell_type": "code",
   "execution_count": 4,
   "id": "a5fadd02",
   "metadata": {},
   "outputs": [
    {
     "name": "stdout",
     "output_type": "stream",
     "text": [
      "Aquí el valor de 'i' es: 1\n",
      "Aquí el valor de 'i' es: 2\n",
      "Aquí el valor de 'i' es: 3\n",
      "Aquí el valor de 'i' es: 4\n",
      "Aquí el valor de 'i' es: 5\n",
      "Aquí el valor de 'i' es: 6\n",
      "Aquí el valor de 'i' es: 7\n",
      "Aquí el valor de 'i' es: 8\n",
      "Aquí el valor de 'i' es: 9\n",
      "Aquí el valor de 'i' es: 10\n",
      "Fin del bucle\n"
     ]
    }
   ],
   "source": [
    "for i in range(1,11):\n",
    "    print(f\"Aquí el valor de 'i' es: {i}\")\n",
    "print(\"Fin del bucle\")"
   ]
  },
  {
   "cell_type": "code",
   "execution_count": null,
   "id": "5187d465",
   "metadata": {},
   "outputs": [
    {
     "name": "stdout",
     "output_type": "stream",
     "text": [
      "Encontré el valor de 'i' cuando es: 1\n",
      "Encontré el valor de 'i' cuando es: 2\n",
      "Encontré el valor de 'i' cuando es: 3\n",
      "Encontré el valor de 'i' cuando es: 4\n",
      "Encontré el valor de 'i' cuando es: 5\n"
     ]
    },
    {
     "ename": "",
     "evalue": "",
     "output_type": "error",
     "traceback": [
      "\u001b[1;31mEl kernel se bloqueó al ejecutar código en la celda actual o en una celda anterior. \n",
      "\u001b[1;31mRevise el código de las celdas para identificar una posible causa del error. \n",
      "\u001b[1;31mHaga clic <a href='https://aka.ms/vscodeJupyterKernelCrash'>aquí</a> para obtener más información. \n",
      "\u001b[1;31mVea Jupyter <a href='command:jupyter.viewOutput'>log</a> para obtener más detalles."
     ]
    }
   ],
   "source": [
    "# Parar cuando encuentre el 5\n",
    "numbers = [1,2,3,4,5,6,7,8,9,10]\n",
    "for i in numbers:\n",
    "    if i == 6:\n",
    "        break # cuando encuentra el 6, para el bucle\n",
    "    print(f\"Encontré el valor de 'i' cuando es: {i}\")"
   ]
  }
 ],
 "metadata": {
  "kernelspec": {
   "display_name": "Python 3",
   "language": "python",
   "name": "python3"
  },
  "language_info": {
   "codemirror_mode": {
    "name": "ipython",
    "version": 3
   },
   "file_extension": ".py",
   "mimetype": "text/x-python",
   "name": "python",
   "nbconvert_exporter": "python",
   "pygments_lexer": "ipython3",
   "version": "3.12.1"
  }
 },
 "nbformat": 4,
 "nbformat_minor": 5
}
