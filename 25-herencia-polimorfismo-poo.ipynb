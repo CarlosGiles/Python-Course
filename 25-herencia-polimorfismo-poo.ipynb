{
 "cells": [
  {
   "cell_type": "markdown",
   "id": "0a1fda9d",
   "metadata": {},
   "source": [
    "## Herencia y polimorfismo\n",
    "\n",
    "En Python, la herencia permite crear una nueva clase a partir de una clase existente (clase base o padre). El polimorfismo permite que métodos definidos en una clase, con el mismo nombre en otra, se comporten de manera diferente según la clase desde la que se llamen.\n",
    "\n",
    "---\n",
    "\n",
    "## Herencia y polimorfismo en Programación Orientada a Objetos (POO)\n",
    "\n",
    "Ejemplo:\n",
    "    - Creamos una clase base llamada 'Animal'.\n",
    "    - Creamos dos clases hijas: 'Perro' y 'Gato' que heredan de 'Animal'.\n",
    "    - Cada clase hija sobreescribe el método 'hablar', mostrando polimorfismo.\n",
    "\n",
    "Este código ayuda a entender:\n",
    "    - Cómo se heredan atributos y métodos.\n",
    "    - Cómo se redefine (sobrescribe) un método en una subclase.\n",
    "    - Cómo diferentes objetos pueden usar el mismo método de manera distinta.\n",
    "\n",
    "```python\n",
    "# Clase base\n",
    "class Animal:\n",
    "    def __init__(self, nombre):\n",
    "        self.nombre = nombre\n",
    "\n",
    "    def hablar(self):\n",
    "        # Método genérico (puede ser redefinido en subclases)\n",
    "        print(f\"{self.nombre} hace un sonido.\")\n",
    "\n",
    "# Clase hija: Perro\n",
    "class Perro(Animal):\n",
    "    def hablar(self):\n",
    "        # Sobrescribe el método de la clase base (polimorfismo)\n",
    "        print(f\"{self.nombre} dice: ¡Guau!\")\n",
    "\n",
    "# Clase hija: Gato\n",
    "class Gato(Animal):\n",
    "    def hablar(self):\n",
    "        # Sobrescribe el método de la clase base (polimorfismo)\n",
    "        print(f\"{self.nombre} dice: ¡Miau!\")\n",
    "\n",
    "# Uso de las clases\n",
    "animales = [Perro(\"Firulais\"), Gato(\"Michi\"), Animal(\"Criatura\")]\n",
    "\n",
    "for animal in animales:\n",
    "    animal.hablar()  # Polimorfismo: cada clase responde a su manera\n",
    "```"
   ]
  },
  {
   "cell_type": "code",
   "execution_count": 2,
   "id": "888a8686",
   "metadata": {},
   "outputs": [
    {
     "name": "stdout",
     "output_type": "stream",
     "text": [
      "Firulais dice: ¡Guau!\n",
      "Michi dice: ¡Miau!\n",
      "Criatura hace un sonido.\n"
     ]
    }
   ],
   "source": [
    "# Clase base\n",
    "class Animal:\n",
    "    def __init__(self, nombre):\n",
    "        self.nombre = nombre\n",
    "\n",
    "    def hablar(self):\n",
    "        # Método genérico (puede ser redefinido en subclases)\n",
    "        print(f\"{self.nombre} hace un sonido.\")\n",
    "\n",
    "# Clase hija: Perro\n",
    "class Perro(Animal):\n",
    "    def hablar(self):\n",
    "        # Sobrescribe el método de la clase base (polimorfismo)\n",
    "        print(f\"{self.nombre} dice: ¡Guau!\")\n",
    "\n",
    "# Clase hija: Gato\n",
    "class Gato(Animal):\n",
    "    def hablar(self):\n",
    "        # Sobrescribe el método de la clase base (polimorfismo)\n",
    "        print(f\"{self.nombre} dice: ¡Miau!\")\n",
    "\n",
    "# Uso de las clases en una lista, el parámetro \"Firulais\"/\"Michi\"/\"Criatura\" pasa como el atributo nombre, definido en la clase padre Animal\n",
    "animales = [Perro(\"Firulais\"), Gato(\"Michi\"), Animal(\"Criatura\")]\n",
    "\n",
    "for animal in animales:\n",
    "    animal.hablar()  # Polimorfismo: cada clase responde a su manera"
   ]
  },
  {
   "cell_type": "markdown",
   "id": "97e867fb",
   "metadata": {},
   "source": [
    "### Explicación paso a paso\n",
    "\n",
    "1. **Definición de la clase base `Animal`:**\n",
    "\n",
    "   * Tiene un atributo `nombre` y un método `hablar`.\n",
    "\n",
    "2. **Herencia:**\n",
    "\n",
    "   * `Perro` y `Gato` heredan de `Animal`.\n",
    "   * No es necesario volver a definir el atributo `nombre`, ya que se hereda.\n",
    "\n",
    "3. **Polimorfismo:**\n",
    "\n",
    "   * Cada subclase implementa su propia versión del método `hablar`.\n",
    "   * Cuando recorremos la lista `animales`, aunque todos tienen el método `hablar`, el comportamiento depende de la clase real de cada objeto.\n",
    "\n",
    "4. **Ejemplo de uso:**\n",
    "\n",
    "   * Se crea una lista con diferentes tipos de animales.\n",
    "   * Se llama al método `hablar()` en cada uno, mostrando polimorfismo en acción.\n"
   ]
  },
  {
   "cell_type": "markdown",
   "id": "84fc1a6b",
   "metadata": {},
   "source": [
    "## Herencia con la función `super()`\n",
    "La función `super()` se utiliza para poder llamar métodos que se encuentran definidos en la clase padre, desde una subclase. Esto sirve para no tener que definir nuevamente en la subclase los métodos y atributos que ya se definieron en la clase padre.\n",
    "\n",
    "Recordemos que la parte en la que estamos definiendo los atributos, en la clase padre, es el constructor. Lo que hacemos es \"decir\" que queremos iniciar una instancia de clase con esa información."
   ]
  },
  {
   "cell_type": "markdown",
   "id": "381648f6",
   "metadata": {},
   "source": [
    "### Ejemplo de clases y subclases con `super()`"
   ]
  },
  {
   "cell_type": "code",
   "execution_count": null,
   "id": "f6113186",
   "metadata": {},
   "outputs": [
    {
     "name": "stdout",
     "output_type": "stream",
     "text": [
      "Hello, I am a person.\n",
      "\n",
      "\n",
      "Hello, I am a person.\n",
      "Hello, I am a student. My student ID is std001\n"
     ]
    }
   ],
   "source": [
    "class Person:\n",
    "    def __init__(self,name,age):\n",
    "        self.name = name\n",
    "        self.age = age\n",
    "\n",
    "    def greet(self):\n",
    "        print(\"Hello, I am a person.\")\n",
    "\n",
    "class Student(Person):\n",
    "    \"\"\"\n",
    "    Aquí estaríamos definiendo los atributos de Student, que son los mismos que Person más el atributo student_id, por lo que\n",
    "    usamos super()\n",
    "    \"\"\"\n",
    "    def __init__(self, name, age, student_id):\n",
    "        super().__init__(name, age) # con esto heredamos los atributos ya definidos en Person\n",
    "        # Ahora definimps el nuevo atributo student_id\n",
    "        self.student_id = student_id\n",
    "\n",
    "    \"\"\"\n",
    "    Ahora hacemos lo mismo para el método greet() que también se hereda, pero aplicamos polimorfismo para cambiar el comportamiento del método\n",
    "    \"\"\"\n",
    "    def greet(self):\n",
    "        super().greet() # Ejecuta el saluda de persona al ser declarado\n",
    "        print(f\"Hello, I am a student. My student ID is {self.student_id}\")\n",
    "\n",
    "Persona1 = Person(\"Juan\", 50)\n",
    "Persona1.greet()\n",
    "print(\"\\n\")\n",
    "Estudiante1 = Student(\"Sara\",20,\"std001\")\n",
    "Estudiante1.greet()"
   ]
  },
  {
   "cell_type": "markdown",
   "id": "fa1bd2b4",
   "metadata": {},
   "source": [
    "Agregaremos la clase `LivingBeing` para tener la siguiente jerarquía: `LivingBeing` -> `Person` -> `Student`"
   ]
  },
  {
   "cell_type": "code",
   "execution_count": 11,
   "id": "1ba82185",
   "metadata": {},
   "outputs": [
    {
     "name": "stdout",
     "output_type": "stream",
     "text": [
      "Hello, I am Carlos, I have 30 years old, and my student ID is QWERTY\n"
     ]
    }
   ],
   "source": [
    "class LivingBeing:\n",
    "    def __init__(self,name):# solo name\n",
    "        self.name = name\n",
    "\n",
    "class Person(LivingBeing):\n",
    "    def __init__(self,name,age):# name + age\n",
    "        super().__init__(name)\n",
    "        self.age = age\n",
    "\n",
    "    def greet(self):\n",
    "        print(\"Hello, I am a person.\")\n",
    "\n",
    "class Student(Person):\n",
    "    def __init__(self, name, age, student_id):# + student_id\n",
    "        super().__init__(name, age) # con esto heredamos los atributos ya definidos en Person\n",
    "        # Ahora definimos el nuevo atributo student_id\n",
    "        self.student_id = student_id\n",
    "\n",
    "    def introduce(self):\n",
    "        # Ahora puedo acceder a los atributos de Person que a su vez accede a los de LivingBeing\n",
    "        print(f\"Hello, I am {self.name}, I have {self.age} years old, and my student ID is {self.student_id}\")\n",
    "\n",
    "# Creamos la instanci de Student\n",
    "Student1 = Student(\"Carlos\",30,\"QWERTY\")\n",
    "Student1.introduce()"
   ]
  },
  {
   "cell_type": "markdown",
   "id": "abb254f4",
   "metadata": {},
   "source": [
    "#### Notas del constructor\n",
    "\n",
    "Aunque `self.name` y `name` parecen ser lo mismo, no lo son. `self.name` es como tal, el atributo. `nombre` es el valor del atributo. Podemos reescribir parte del código para hacer notar la diferecia:\n",
    "\n",
    "```python\n",
    "class Person:\n",
    "  def __init__(self, nombre, edad):# declaración de los valores de los atributos, que son parámetros de la función\n",
    "    self.name = nombre # asignación de atributo = valor\n",
    "    self.age = edad\n",
    "\n",
    "# creación de la instancia de la clase\n",
    "instancia = Person(\"Andres\", 25)\n",
    "# Accedemos a los atributos de la clase y los imprimimos\n",
    "print(instancia.name) # \"Andres\"\n",
    "print(instancia.age) # 25\n",
    "```"
   ]
  },
  {
   "cell_type": "code",
   "execution_count": 16,
   "id": "c9ddbf0d",
   "metadata": {},
   "outputs": [
    {
     "name": "stdout",
     "output_type": "stream",
     "text": [
      "Andres\n",
      "25\n"
     ]
    }
   ],
   "source": [
    "class Person:\n",
    "  def __init__(self, nombre, edad):# declaración de los valores de los atributos, que son parámetros de la función\n",
    "    self.name = nombre # asignación de atributo = valor\n",
    "    self.age = edad\n",
    "\n",
    "# creación de la instancia de la clase\n",
    "instancia = Person(\"Andres\", 25)\n",
    "# Accedemos a los atributos de la clase y los imprimimos\n",
    "print(instancia.name) # \"Andres\"\n",
    "print(instancia.age) # 25"
   ]
  }
 ],
 "metadata": {
  "kernelspec": {
   "display_name": "Python 3",
   "language": "python",
   "name": "python3"
  },
  "language_info": {
   "codemirror_mode": {
    "name": "ipython",
    "version": 3
   },
   "file_extension": ".py",
   "mimetype": "text/x-python",
   "name": "python",
   "nbconvert_exporter": "python",
   "pygments_lexer": "ipython3",
   "version": "3.12.1"
  }
 },
 "nbformat": 4,
 "nbformat_minor": 5
}
