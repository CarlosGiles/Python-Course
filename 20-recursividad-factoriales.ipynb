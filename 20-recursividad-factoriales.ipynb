{
 "cells": [
  {
   "cell_type": "markdown",
   "id": "647e3fac",
   "metadata": {},
   "source": [
    "# 🔁 Recursividad en Python – Cálculo de Factoriales\n",
    "\n",
    "## 🧠 ¿Qué es la recursividad?\n",
    "\n",
    "La **recursividad** es una técnica de programación en la cual una función **se llama a sí misma** para resolver un problema dividiéndolo en **subproblemas más pequeños**.\n",
    "\n",
    "> 🎯 Es útil cuando un problema puede expresarse en términos de sí mismo, como: factoriales, series de Fibonacci, estructuras de árbol, etc.\n",
    "\n",
    "---\n",
    "\n",
    "## 📌 Reglas básicas de una función recursiva\n",
    "\n",
    "1. **Caso base (o condición de parada)**: impide que la función se llame infinitamente.\n",
    "2. **Paso recursivo**: la función se llama a sí misma con un valor modificado.\n",
    "\n",
    "---\n",
    "\n",
    "## 🧪 Ejemplo: Cálculo del factorial\n",
    "\n",
    "### 📌 Definición matemática:\n",
    "\n",
    "El **factorial de un número `n`** (denotado como `n!`) se define como:\n",
    "\n",
    "* `0! = 1` (caso base)\n",
    "* `n! = n × (n - 1)!` para `n > 0`\n",
    "\n",
    "---\n",
    "\n",
    "## 🔍 Función recursiva explicada\n",
    "\n",
    "```python\n",
    "def factorial(n):\n",
    "    if n == 0:\n",
    "        return 1\n",
    "    else:\n",
    "        return n * factorial(n - 1)\n",
    "```\n",
    "\n",
    "### Paso a paso para `factorial(5)`:\n",
    "\n",
    "```\n",
    "factorial(5)\n",
    "→ 5 * factorial(4)\n",
    "→ 5 * (4 * factorial(3))\n",
    "→ 5 * (4 * (3 * factorial(2)))\n",
    "→ 5 * (4 * (3 * (2 * factorial(1))))\n",
    "→ 5 * (4 * (3 * (2 * (1 * factorial(0)))))\n",
    "→ 5 * (4 * (3 * (2 * (1 * 1))))   ← cuando n == 0, retorna 1\n",
    "→ 120\n",
    "```\n",
    "\n",
    "---\n",
    "\n",
    "## 🧮 Visualización del árbol de llamadas\n",
    "\n",
    "```plaintext\n",
    "factorial(5)\n",
    " └── factorial(4)\n",
    "      └── factorial(3)\n",
    "           └── factorial(2)\n",
    "                └── factorial(1)\n",
    "                     └── factorial(0) → 1\n",
    "```\n",
    "\n",
    "Cada llamada **espera el resultado** de la siguiente hasta llegar al caso base.\n",
    "\n",
    "---\n",
    "\n",
    "## 🔐 Caso base: la clave de seguridad\n",
    "\n",
    "Sin el caso base (`if n == 0`), la función **nunca terminaría** y causaría un error por **recursión infinita** (`RecursionError: maximum recursion depth exceeded`)."
   ]
  },
  {
   "cell_type": "code",
   "execution_count": 2,
   "id": "5b8c0fc2",
   "metadata": {},
   "outputs": [
    {
     "name": "stdout",
     "output_type": "stream",
     "text": [
      "120\n"
     ]
    }
   ],
   "source": [
    "def factorial(n):\n",
    "    if n == 0:\n",
    "        return 1\n",
    "    else:\n",
    "        return n * factorial(n - 1)\n",
    "\n",
    "print(factorial(5))  # Output: 120"
   ]
  },
  {
   "cell_type": "markdown",
   "id": "7b61fb55",
   "metadata": {},
   "source": [
    "## 🧠 Complejidad y consideraciones\n",
    "\n",
    "* **Complejidad temporal**: O(n)\n",
    "* **Complejidad espacial**: O(n) (debido al uso de la pila de llamadas)\n",
    "* No es ideal para valores muy grandes de `n` sin técnicas como **memoización** o **implementación iterativa**.\n",
    "\n",
    "---\n",
    "\n",
    "## 🔁 Versión iterativa (alternativa)\n",
    "\n",
    "```python\n",
    "def factorial_iterativo(n):\n",
    "    resultado = 1\n",
    "    for i in range(1, n + 1):\n",
    "        resultado *= i\n",
    "    return resultado\n",
    "```\n",
    "\n",
    "---\n",
    "\n",
    "## ✅ Conclusión\n",
    "\n",
    "* La recursividad permite expresar soluciones de forma **natural y elegante**, especialmente en problemas jerárquicos.\n",
    "* Siempre debes asegurarte de incluir un **caso base**.\n",
    "* Para problemas donde el uso de memoria es crítico, considera una solución **iterativa o con memoización**.\n",
    "\n",
    "---\n",
    "\n",
    "## 🎓 Mini reto\n",
    "\n",
    "¿Puedes escribir una función recursiva `contar_regresiva(n)` que imprima los números del `n` al `1`, y luego diga `\"¡Despegue!\"`?\n",
    "\n",
    "```python\n",
    "def contar_regresiva(n):\n",
    "    if n == 0:\n",
    "        print(\"¡Despegue!\")\n",
    "    else:\n",
    "        print(n)\n",
    "        contar_regresiva(n - 1)\n",
    "```\n"
   ]
  },
  {
   "cell_type": "code",
   "execution_count": 3,
   "id": "c0951553",
   "metadata": {},
   "outputs": [
    {
     "name": "stdout",
     "output_type": "stream",
     "text": [
      "5\n",
      "4\n",
      "3\n",
      "2\n",
      "1\n",
      "¡Despegue!\n"
     ]
    }
   ],
   "source": [
    "def contar_regresiva(n):\n",
    "    if n == 0:\n",
    "        print(\"¡Despegue!\")\n",
    "    else:\n",
    "        print(n)\n",
    "        contar_regresiva(n - 1)\n",
    "\n",
    "contar_regresiva(5)  # Output: 5, 4, 3, 2, 1, ¡Despegue!"
   ]
  },
  {
   "cell_type": "markdown",
   "id": "f9bd0290",
   "metadata": {},
   "source": [
    "## Fibonacci\n",
    "Crear una función recirsiva que muestre el `n`/enesimo dígito de la serie Fibonacci:\n",
    "\n",
    "`Fibonacci = 0, 1, 1, 2, 3, 5, 8, 13, 21, ...`"
   ]
  },
  {
   "cell_type": "code",
   "execution_count": null,
   "id": "55b04b44",
   "metadata": {},
   "outputs": [
    {
     "name": "stdout",
     "output_type": "stream",
     "text": [
      "13\n"
     ]
    },
    {
     "ename": "",
     "evalue": "",
     "output_type": "error",
     "traceback": [
      "\u001b[1;31mEl kernel se bloqueó al ejecutar código en la celda actual o en una celda anterior. \n",
      "\u001b[1;31mRevise el código de las celdas para identificar una posible causa del error. \n",
      "\u001b[1;31mHaga clic <a href='https://aka.ms/vscodeJupyterKernelCrash'>aquí</a> para obtener más información. \n",
      "\u001b[1;31mVea Jupyter <a href='command:jupyter.viewOutput'>log</a> para obtener más detalles."
     ]
    }
   ],
   "source": [
    "def fibonacci(n):\n",
    "    if n == 0:\n",
    "        return 0\n",
    "    elif n == 1:\n",
    "        return 1\n",
    "    else:\n",
    "        return fibonacci(n-1) + fibonacci(n-2)\n",
    "\n",
    "digitos= 7\n",
    "\n",
    "print(fibonacci(digitos))"
   ]
  }
 ],
 "metadata": {
  "kernelspec": {
   "display_name": "Python 3",
   "language": "python",
   "name": "python3"
  },
  "language_info": {
   "codemirror_mode": {
    "name": "ipython",
    "version": 3
   },
   "file_extension": ".py",
   "mimetype": "text/x-python",
   "name": "python",
   "nbconvert_exporter": "python",
   "pygments_lexer": "ipython3",
   "version": "3.12.1"
  }
 },
 "nbformat": 4,
 "nbformat_minor": 5
}
