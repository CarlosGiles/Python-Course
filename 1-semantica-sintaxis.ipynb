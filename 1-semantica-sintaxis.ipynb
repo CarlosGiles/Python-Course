{
 "cells": [
  {
   "cell_type": "markdown",
   "id": "3c0f404b",
   "metadata": {},
   "source": [
    "# Semántica y Sintaxis en Python\n",
    "En Python (y en cualquier lenguaje de programación), **sintaxis** y **semántica** son dos conceptos fundamentales pero distintos."
   ]
  },
  {
   "cell_type": "markdown",
   "id": "76d63969",
   "metadata": {},
   "source": [
    "## 📘 **Sintaxis en Python**\n",
    "\n",
    "La **sintaxis** es el *conjunto de reglas* que definen **cómo debe escribirse el código** para que el intérprete (de Python en tu computadora) lo entienda correctamente.\n",
    "\n",
    "* Es como la gramática de un lenguaje natural.\n",
    "* Si rompes las reglas de sintaxis, obtendrás un `SyntaxError`.\n",
    "\n",
    "### 🧩 Ejemplos de sintaxis correcta:\n",
    "\n",
    "```python\n",
    "x = 5\n",
    "if x > 0:\n",
    "    print(\"Positivo\")\n",
    "```\n",
    "\n",
    "### ❌ Ejemplo con error de sintaxis:\n",
    "\n",
    "```python\n",
    "x = 5\n",
    "if x > 0\n",
    "    print(\"Positivo\")\n",
    "```\n",
    "\n",
    "➡ Falta el `:` al final del `if`.\n",
    "\n",
    "---\n",
    "\n",
    "## 📙 **Semántica en Python**\n",
    "\n",
    "La **semántica** se refiere al *significado lógico o comportamiento* del código una vez que está correctamente escrito.\n",
    "\n",
    "* Afecta **qué hace el programa**, no cómo está escrito.\n",
    "* Puede haber errores semánticos aunque la sintaxis sea válida (por ejemplo, usar una variable no definida).\n",
    "\n",
    "### 🧩 Ejemplo de código con sintaxis correcta pero semántica incorrecta:\n",
    "\n",
    "```python\n",
    "def dividir(a, b):\n",
    "    return a / b\n",
    "\n",
    "dividir(10, 0)  # Sintaxis válida, pero semánticamente incorrecto (ZeroDivisionError)\n",
    "```\n",
    "\n",
    "---\n",
    "\n",
    "## 🔍 Comparación\n",
    "\n",
    "| Característica     | Sintaxis                    | Semántica                                           |\n",
    "| ------------------ | --------------------------- | --------------------------------------------------- |\n",
    "| ¿Qué define?       | La *forma* del código       | El *significado* o *comportamiento*                 |\n",
    "| ¿Errores?          | `SyntaxError`               | `TypeError`, `ValueError`, errores lógicos          |\n",
    "| ¿Ejemplo de error? | Falta de dos puntos en `if` | Dividir por cero, usar una variable no inicializada |\n",
    "\n",
    "---"
   ]
  },
  {
   "cell_type": "markdown",
   "id": "273cb3d7",
   "metadata": {},
   "source": [
    "## 🧪 Ejercicio: Analiza el siguiente código\n",
    "Lee el siguiente código y responde:\n",
    "\n",
    "```python\n",
    "def saludar(nombre)\n",
    "    mensaje = \"Hola \" + Nombre\n",
    "    print(mensaje)\n",
    "\n",
    "saludar(\"Carlos\")\n",
    "```\n",
    "\n",
    "1. ¿Hay algún error de **sintaxis**?\n",
    "2. ¿Hay algún error de semántica?\n",
    "3. ¿Cómo lo corregirías?"
   ]
  },
  {
   "cell_type": "code",
   "execution_count": 1,
   "id": "a202c483",
   "metadata": {
    "vscode": {
     "languageId": "shellscript"
    }
   },
   "outputs": [
    {
     "ename": "SyntaxError",
     "evalue": "expected ':' (3359690903.py, line 3)",
     "output_type": "error",
     "traceback": [
      "\u001b[1;36m  Cell \u001b[1;32mIn[1], line 3\u001b[1;36m\u001b[0m\n\u001b[1;33m    def saludar(nombre)\u001b[0m\n\u001b[1;37m                       ^\u001b[0m\n\u001b[1;31mSyntaxError\u001b[0m\u001b[1;31m:\u001b[0m expected ':'\n"
     ]
    }
   ],
   "source": [
    "# Probemos el código\n",
    "\n",
    "def saludar(nombre)\n",
    "    mensaje = \"Hola \" + Nombre\n",
    "    print(mensaje)\n",
    "\n",
    "saludar(\"Carlos\")"
   ]
  },
  {
   "cell_type": "markdown",
   "id": "7d7c0afc",
   "metadata": {},
   "source": [
    "Al ejecutar la celda, el intérprete de Python nos señala *SyntaxError*.\n",
    "\n",
    "### ✅ Corrección dek error de sintaxis:"
   ]
  },
  {
   "cell_type": "code",
   "execution_count": 3,
   "id": "6bb7993c",
   "metadata": {
    "vscode": {
     "languageId": "shellscript"
    }
   },
   "outputs": [
    {
     "ename": "NameError",
     "evalue": "name 'Nombre' is not defined",
     "output_type": "error",
     "traceback": [
      "\u001b[1;31m---------------------------------------------------------------------------\u001b[0m",
      "\u001b[1;31mNameError\u001b[0m                                 Traceback (most recent call last)",
      "Cell \u001b[1;32mIn[3], line 5\u001b[0m\n\u001b[0;32m      2\u001b[0m     mensaje \u001b[38;5;241m=\u001b[39m \u001b[38;5;124m\"\u001b[39m\u001b[38;5;124mHola \u001b[39m\u001b[38;5;124m\"\u001b[39m \u001b[38;5;241m+\u001b[39m Nombre\n\u001b[0;32m      3\u001b[0m     \u001b[38;5;28mprint\u001b[39m(mensaje)\n\u001b[1;32m----> 5\u001b[0m \u001b[43msaludar\u001b[49m\u001b[43m(\u001b[49m\u001b[38;5;124;43m\"\u001b[39;49m\u001b[38;5;124;43mCarlos\u001b[39;49m\u001b[38;5;124;43m\"\u001b[39;49m\u001b[43m)\u001b[49m\n",
      "Cell \u001b[1;32mIn[3], line 2\u001b[0m, in \u001b[0;36msaludar\u001b[1;34m(nombre)\u001b[0m\n\u001b[0;32m      1\u001b[0m \u001b[38;5;28;01mdef\u001b[39;00m \u001b[38;5;21msaludar\u001b[39m(nombre):  \u001b[38;5;66;03m# ← aquí faltaba el :\u001b[39;00m\n\u001b[1;32m----> 2\u001b[0m     mensaje \u001b[38;5;241m=\u001b[39m \u001b[38;5;124m\"\u001b[39m\u001b[38;5;124mHola \u001b[39m\u001b[38;5;124m\"\u001b[39m \u001b[38;5;241m+\u001b[39m \u001b[43mNombre\u001b[49m\n\u001b[0;32m      3\u001b[0m     \u001b[38;5;28mprint\u001b[39m(mensaje)\n",
      "\u001b[1;31mNameError\u001b[0m: name 'Nombre' is not defined"
     ]
    }
   ],
   "source": [
    "def saludar(nombre):  # ← aquí faltaba el :\n",
    "    mensaje = \"Hola \" + Nombre\n",
    "    print(mensaje)\n",
    "\n",
    "saludar(\"Carlos\")"
   ]
  },
  {
   "cell_type": "markdown",
   "id": "bebb6674",
   "metadata": {},
   "source": [
    "Ahora tenemos un error de semántica, aunque el código es \"correcto\", el error está en que la variable \"Nombre\" no está definida, la variable esperada es `nombre`."
   ]
  },
  {
   "cell_type": "markdown",
   "id": "cb508e5c",
   "metadata": {},
   "source": [
    "## 🔧 Código corregido (sintaxis y semántica):"
   ]
  },
  {
   "cell_type": "code",
   "execution_count": 4,
   "id": "1288a00a",
   "metadata": {
    "vscode": {
     "languageId": "shellscript"
    }
   },
   "outputs": [
    {
     "name": "stdout",
     "output_type": "stream",
     "text": [
      "Hola Carlos\n"
     ]
    }
   ],
   "source": [
    "def saludar(nombre):\n",
    "    mensaje = \"Hola \" + nombre\n",
    "    print(mensaje)\n",
    "\n",
    "saludar(\"Carlos\")"
   ]
  }
 ],
 "metadata": {
  "kernelspec": {
   "display_name": "Python 3",
   "language": "python",
   "name": "python3"
  },
  "language_info": {
   "codemirror_mode": {
    "name": "ipython",
    "version": 3
   },
   "file_extension": ".py",
   "mimetype": "text/x-python",
   "name": "python",
   "nbconvert_exporter": "python",
   "pygments_lexer": "ipython3",
   "version": "3.12.1"
  }
 },
 "nbformat": 4,
 "nbformat_minor": 5
}
