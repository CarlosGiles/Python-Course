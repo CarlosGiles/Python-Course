{
 "cells": [
  {
   "cell_type": "markdown",
   "id": "b44defbb",
   "metadata": {},
   "source": [
    "# 🚗 Proyecto: Concesionaria de Vehículos en Python con POO"
   ]
  },
  {
   "cell_type": "markdown",
   "id": "c87d6e21",
   "metadata": {},
   "source": [
    "## 🧱 Paso 1: Clase `Vehiculo`"
   ]
  },
  {
   "cell_type": "code",
   "execution_count": 2,
   "id": "4bbef355",
   "metadata": {},
   "outputs": [],
   "source": [
    "class Vehiculo:\n",
    "    def __init__(self, marca, modelo, precio):\n",
    "        self.marca = marca\n",
    "        self.modelo = modelo\n",
    "        self.precio = precio\n",
    "        self.disponible = True\n",
    "\n",
    "    def info(self):\n",
    "        print(f\"Marca: {self.marca} | Modelo: {self.modelo} | Precio: {self.precio}\")\n",
    "        if self.disponible:\n",
    "            print(\"Estado: Disponible\")\n",
    "        else:\n",
    "            print(\"Estado: Vendido\")"
   ]
  },
  {
   "cell_type": "markdown",
   "id": "1e263907",
   "metadata": {},
   "source": [
    "✅ Explicación:\n",
    "* Cada objeto Vehiculo tiene atributos de marca, modelo, precio y disponibilidad.\n",
    "* El método mostrar_info imprime los datos del vehículo con formato controlado."
   ]
  },
  {
   "cell_type": "markdown",
   "id": "41832527",
   "metadata": {},
   "source": [
    "## 🧱 Paso 2: Clase `Concesionaria`"
   ]
  },
  {
   "cell_type": "code",
   "execution_count": null,
   "id": "45dd48ba",
   "metadata": {},
   "outputs": [],
   "source": [
    "class Concesionaria:\n",
    "    def __init__(self):\n",
    "        self.vehiculos = []\n",
    "    \n",
    "    def agregar_vh(self, vihiculo):\n",
    "        self.vehiculos.append(vehiculo)"
   ]
  }
 ],
 "metadata": {
  "kernelspec": {
   "display_name": "Python 3",
   "language": "python",
   "name": "python3"
  },
  "language_info": {
   "codemirror_mode": {
    "name": "ipython",
    "version": 3
   },
   "file_extension": ".py",
   "mimetype": "text/x-python",
   "name": "python",
   "nbconvert_exporter": "python",
   "pygments_lexer": "ipython3",
   "version": "3.12.1"
  }
 },
 "nbformat": 4,
 "nbformat_minor": 5
}
