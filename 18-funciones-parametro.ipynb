{
 "cells": [
  {
   "cell_type": "markdown",
   "id": "c044820f",
   "metadata": {},
   "source": [
    "# 🧩 Funciones y Parámetros en Python\n",
    "\n",
    "**Temas**: Qué es una función – Parámetros – Tipos – Ejemplos\n",
    "\n",
    "## 🧠 ¿Qué es una función?\n",
    "\n",
    "Una **función** es un bloque de código que **realiza una tarea específica** y puede ser reutilizado en diferentes partes del programa. Las funciones permiten dividir un programa en partes lógicas, facilitando su comprensión y mantenimiento.\n",
    "\n",
    "---\n",
    "\n",
    "### ✅ Definición básica de una función\n",
    "\n",
    "```python\n",
    "def saludar():\n",
    "    print(\"Hola, bienvenido a Python\")\n",
    "```\n",
    "\n",
    "### 👉 Llamar a la función:\n",
    "\n",
    "```python\n",
    "saludar()\n",
    "```"
   ]
  },
  {
   "cell_type": "code",
   "execution_count": 1,
   "id": "463517b4",
   "metadata": {},
   "outputs": [
    {
     "name": "stdout",
     "output_type": "stream",
     "text": [
      "Hola, bienvenido a Python\n"
     ]
    }
   ],
   "source": [
    "def saludar():\n",
    "    print(\"Hola, bienvenido a Python\")\n",
    "\n",
    "saludar()"
   ]
  },
  {
   "cell_type": "markdown",
   "id": "4977fe92",
   "metadata": {},
   "source": [
    "## 📦 Parámetros y argumentos\n",
    "\n",
    "Una función puede **recibir datos (parámetros)** y trabajar con ellos internamente.\n",
    "\n",
    "```python\n",
    "def saludar_persona(nombre):\n",
    "    print(f\"Hola, {nombre}\")\n",
    "```\n",
    "\n",
    "```python\n",
    "saludar_persona(\"Ana\")  # Hola, Ana\n",
    "```\n",
    "\n",
    "* **Parámetro**: `nombre` (variable interna de la función)\n",
    "* **Argumento**: `\"Ana\"` (dato que se pasa al llamar la función)\n",
    "\n",
    "---\n",
    "\n",
    "## 🛠️ Función con varios parámetros\n",
    "\n",
    "```python\n",
    "def sumar(a, b):\n",
    "    resultado = a + b\n",
    "    print(f\"La suma es: {resultado}\")\n",
    "```\n",
    "\n",
    "```python\n",
    "sumar(3, 5)  # La suma es: 8\n",
    "```"
   ]
  },
  {
   "cell_type": "code",
   "execution_count": 2,
   "id": "2b8774c2",
   "metadata": {},
   "outputs": [
    {
     "name": "stdout",
     "output_type": "stream",
     "text": [
      "La suma es: 8\n"
     ]
    }
   ],
   "source": [
    "def sumar(a, b):\n",
    "    resultado = a + b\n",
    "    print(f\"La suma es: {resultado}\")\n",
    "\n",
    "sumar(3, 5)  # La suma es: 8"
   ]
  },
  {
   "cell_type": "markdown",
   "id": "19e7c5ec",
   "metadata": {},
   "source": [
    "## 🎯 Funciones que retornan valores\n",
    "\n",
    "```python\n",
    "def multiplicar(x, y):\n",
    "    return x * y\n",
    "\n",
    "producto = multiplicar(4, 5)\n",
    "print(producto)  # 20\n",
    "```\n",
    "\n",
    "> 🔄 `return` finaliza la función y **devuelve un resultado**."
   ]
  },
  {
   "cell_type": "code",
   "execution_count": 3,
   "id": "fc2a7614",
   "metadata": {},
   "outputs": [
    {
     "name": "stdout",
     "output_type": "stream",
     "text": [
      "20\n"
     ]
    }
   ],
   "source": [
    "def multiplicar(x, y):\n",
    "    return x * y\n",
    "\n",
    "producto = multiplicar(4, 5)\n",
    "print(producto)  # 20"
   ]
  },
  {
   "cell_type": "markdown",
   "id": "ef2b0da9",
   "metadata": {},
   "source": [
    "## 🧩 Tipos de parámetros\n",
    "\n",
    "| Tipo                               | Ejemplo                                   |\n",
    "| ---------------------------------- | ----------------------------------------- |\n",
    "| Posicionales                       | `def saludar(nombre)` → `saludar(\"Ana\")`  |\n",
    "| Con valor por defecto              | `def saludar(nombre=\"Invitado\")`          |\n",
    "| Arbitrarios (`*args`)              | `def sumar(*numeros)` → muchos valores    |\n",
    "| Arbitrarios con clave (`**kwargs`) | `def mostrar(**datos)` → claves y valores |"
   ]
  },
  {
   "cell_type": "markdown",
   "id": "1f6b33f5",
   "metadata": {},
   "source": [
    "### ✅ Parámetros con valores por defecto\n",
    "\n",
    "```python\n",
    "def saludar(nombre=\"Invitado\"):\n",
    "    print(f\"Hola, {nombre}\")\n",
    "```\n",
    "\n",
    "```python\n",
    "saludar()          # Hola, Invitado\n",
    "saludar(\"Carlos\")  # Hola, Carlos\n",
    "```\n",
    "\n",
    "---\n",
    "\n",
    "### ✅ `*args` (argumentos variables)\n",
    "\n",
    "```python\n",
    "def sumar(*numeros):\n",
    "    return sum(numeros)\n",
    "\n",
    "print(sumar(1, 2, 3, 4))  # 10\n",
    "```"
   ]
  },
  {
   "cell_type": "code",
   "execution_count": 5,
   "id": "d964b2bc",
   "metadata": {},
   "outputs": [
    {
     "name": "stdout",
     "output_type": "stream",
     "text": [
      "Hola, Invitado\n",
      "Hola, Carlos\n"
     ]
    }
   ],
   "source": [
    "def saludar(nombre=\"Invitado\"):\n",
    "    print(f\"Hola, {nombre}\")\n",
    "    \n",
    "saludar()          # Hola, Invitado\n",
    "saludar(\"Carlos\")  # Hola, Carlos"
   ]
  },
  {
   "cell_type": "code",
   "execution_count": 6,
   "id": "90d033a2",
   "metadata": {},
   "outputs": [
    {
     "name": "stdout",
     "output_type": "stream",
     "text": [
      "10\n"
     ]
    }
   ],
   "source": [
    "def sumar(*numeros):\n",
    "    return sum(numeros)\n",
    "\n",
    "print(sumar(1, 2, 3, 4))  # 10"
   ]
  },
  {
   "cell_type": "markdown",
   "id": "e961068a",
   "metadata": {},
   "source": [
    "### ✅ `**kwargs` (argumentos nombrados variables)\n",
    "\n",
    "```python\n",
    "def mostrar_info(**datos):\n",
    "    for clave, valor in datos.items():\n",
    "        print(f\"{clave}: {valor}\")\n",
    "\n",
    "mostrar_info(nombre=\"Ana\", edad=30)\n",
    "```\n",
    "\n",
    "**Resultado:**\n",
    "\n",
    "```\n",
    "nombre: Ana\n",
    "edad: 30\n",
    "```"
   ]
  },
  {
   "cell_type": "code",
   "execution_count": 7,
   "id": "670c2e43",
   "metadata": {},
   "outputs": [
    {
     "name": "stdout",
     "output_type": "stream",
     "text": [
      "nombre: Ana\n",
      "edad: 30\n"
     ]
    }
   ],
   "source": [
    "def mostrar_info(**datos):\n",
    "    for clave, valor in datos.items():\n",
    "        print(f\"{clave}: {valor}\")\n",
    "\n",
    "mostrar_info(nombre=\"Ana\", edad=30)"
   ]
  },
  {
   "cell_type": "markdown",
   "id": "8afdd080",
   "metadata": {},
   "source": [
    "## 📋 Resumen\n",
    "\n",
    "| Elemento             | Ejemplo                      | Propósito                         |\n",
    "| -------------------- | ---------------------------- | --------------------------------- |\n",
    "| `def`                | `def nombre_funcion():`      | Definir una función               |\n",
    "| Parámetros           | `def f(x, y)`                | Recibir valores al llamar         |\n",
    "| `return`             | `return resultado`           | Devolver un valor al programa     |\n",
    "| `*args` / `**kwargs` | Recibir múltiples argumentos | Flexibilidad al definir funciones |\n",
    "| Valores por defecto  | `def f(x=1)`                 | Parámetros opcionales             |"
   ]
  },
  {
   "cell_type": "markdown",
   "id": "3198e6f5",
   "metadata": {},
   "source": [
    "## 🎓 Mini reto\n",
    "\n",
    "Crea una función `evaluar` que reciba un número y retorne `\"Aprobado\"` si es mayor o igual a 70, y `\"Reprobado\"` en caso contrario."
   ]
  },
  {
   "cell_type": "code",
   "execution_count": 8,
   "id": "cb9d7516",
   "metadata": {},
   "outputs": [
    {
     "name": "stdout",
     "output_type": "stream",
     "text": [
      "Aprobado\n"
     ]
    }
   ],
   "source": [
    "def evaluar(calificacion):\n",
    "    if calificacion >= 70:\n",
    "        return \"Aprobado\"\n",
    "    else:\n",
    "        return \"Reprobado\"\n",
    "\n",
    "print(evaluar(85))  # Aprobado"
   ]
  }
 ],
 "metadata": {
  "kernelspec": {
   "display_name": "Python 3",
   "language": "python",
   "name": "python3"
  },
  "language_info": {
   "codemirror_mode": {
    "name": "ipython",
    "version": 3
   },
   "file_extension": ".py",
   "mimetype": "text/x-python",
   "name": "python",
   "nbconvert_exporter": "python",
   "pygments_lexer": "ipython3",
   "version": "3.12.1"
  }
 },
 "nbformat": 4,
 "nbformat_minor": 5
}
