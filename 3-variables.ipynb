{
 "cells": [
  {
   "cell_type": "markdown",
   "id": "3b5c676b",
   "metadata": {},
   "source": [
    "# Variables\n",
    "Podemos asignar valores a una *\"palabra\"* y acceder a dichos valores desde otra parte del código. Por ejemplo, podemos definir la variable `nombre` con el valor asignado `Carlos` de la siguiente manera:\n",
    "\n",
    "```python\n",
    "nombre = \"Carlos\"\n",
    "```\n",
    "\n",
    "El tipo de variable anterior es un **string**, una cadena de caracteres y siempre va entre comillas simples o dobles.\n",
    "\n",
    "Entonces ahora podemos imprimir un saludo sin la necesidad de escribir explicitamente el nombre dentro de la función `print()`:"
   ]
  },
  {
   "cell_type": "code",
   "execution_count": 3,
   "id": "c9a0321e",
   "metadata": {},
   "outputs": [
    {
     "name": "stdout",
     "output_type": "stream",
     "text": [
      "Hola\n",
      "Carlos\n"
     ]
    }
   ],
   "source": [
    "nombre = \"Carlos\"\n",
    "print(\"Hola\")\n",
    "print(nombre)"
   ]
  },
  {
   "cell_type": "markdown",
   "id": "0df3cb83",
   "metadata": {},
   "source": [
    "## Multiples variables"
   ]
  },
  {
   "cell_type": "code",
   "execution_count": 4,
   "id": "d78bdbe9",
   "metadata": {},
   "outputs": [
    {
     "name": "stdout",
     "output_type": "stream",
     "text": [
      "Hola\n",
      "Carlos\n"
     ]
    }
   ],
   "source": [
    "saludo = \"Hola\"\n",
    "nombre = \"Carlos\"\n",
    "print(saludo)\n",
    "print(nombre)"
   ]
  },
  {
   "cell_type": "markdown",
   "id": "3fb543b2",
   "metadata": {},
   "source": [
    "## Concatenar variables\n",
    "Podemos utilizar una misma función `print()` para mostrar más de una variable:"
   ]
  },
  {
   "cell_type": "code",
   "execution_count": 6,
   "id": "7bffc4ae",
   "metadata": {},
   "outputs": [
    {
     "name": "stdout",
     "output_type": "stream",
     "text": [
      "Hola Carlos\n"
     ]
    }
   ],
   "source": [
    "saludo = \"Hola\"\n",
    "nombre = \"Carlos\"\n",
    "print(saludo, nombre)"
   ]
  }
 ],
 "metadata": {
  "kernelspec": {
   "display_name": "Python 3",
   "language": "python",
   "name": "python3"
  },
  "language_info": {
   "codemirror_mode": {
    "name": "ipython",
    "version": 3
   },
   "file_extension": ".py",
   "mimetype": "text/x-python",
   "name": "python",
   "nbconvert_exporter": "python",
   "pygments_lexer": "ipython3",
   "version": "3.12.1"
  }
 },
 "nbformat": 4,
 "nbformat_minor": 5
}
