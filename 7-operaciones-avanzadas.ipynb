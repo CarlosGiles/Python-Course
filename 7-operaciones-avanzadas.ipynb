{
 "cells": [
  {
   "cell_type": "markdown",
   "id": "2671a318",
   "metadata": {},
   "source": [
    "# 🔢 Operaciones Avanzadas en Python – Módulo y Potencia\n",
    "\n",
    "En Python, además de las operaciones básicas como suma, resta o división, existen operadores que te permiten realizar cálculos más específicos: el **módulo** (`%`) y la **potencia** (`**`). Ambos son muy útiles para tareas matemáticas, ciclos, lógica condicional y más."
   ]
  },
  {
   "cell_type": "markdown",
   "id": "c8bb76bb",
   "metadata": {},
   "source": [
    "## 1. 🧮 El operador **módulo** (`%`)\n",
    "\n",
    "### ✅ ¿Qué hace?\n",
    "\n",
    "El operador `%` devuelve el **residuo** (o resto) de una división entre dos números.\n",
    "\n",
    "### 📌 Sintaxis:\n",
    "\n",
    "```python\n",
    "resultado = a % b\n",
    "```\n",
    "\n",
    "Esto significa: *¿Cuál es el residuo al dividir `a` entre `b`?*\n",
    "\n",
    "### 🧪 Ejemplos:\n",
    "\n",
    "```python\n",
    "print(10 % 3)  # Resultado: 1\n",
    "print(15 % 5)  # Resultado: 0\n",
    "print(7 % 4)   # Resultado: 3\n",
    "```\n",
    "\n",
    "### 🎯 Usos comunes del módulo:\n",
    "\n",
    "* **Verificar divisibilidad**:\n",
    "\n",
    "```python\n",
    "if numero % 2 == 0:\n",
    "    print(\"Es par\")\n",
    "else:\n",
    "    print(\"Es impar\")\n",
    "```\n",
    "\n",
    "* **Repetición cíclica** (como contar en rondas):\n",
    "\n",
    "```python\n",
    "dias = [\"Lunes\", \"Martes\", \"Miércoles\"]\n",
    "print(dias[4 % 3])  # Martes (índice 1)\n",
    "```"
   ]
  },
  {
   "cell_type": "code",
   "execution_count": 2,
   "id": "832006bf",
   "metadata": {},
   "outputs": [
    {
     "name": "stdout",
     "output_type": "stream",
     "text": [
      "Es impar\n"
     ]
    }
   ],
   "source": [
    "numero = 1\n",
    "if numero % 2 == 0:\n",
    "    print(\"Es par\")\n",
    "else:\n",
    "    print(\"Es impar\")"
   ]
  },
  {
   "cell_type": "markdown",
   "id": "db29dcb6",
   "metadata": {},
   "source": [
    "## 2. ✴️ El operador **potencia** (`**`)\n",
    "\n",
    "### ✅ ¿Qué hace?\n",
    "\n",
    "El operador `**` eleva un número a la potencia de otro.\n",
    "\n",
    "### 📌 Sintaxis:\n",
    "\n",
    "```python\n",
    "resultado = base ** exponente\n",
    "```\n",
    "\n",
    "### 🧪 Ejemplos:\n",
    "\n",
    "```python\n",
    "print(2 ** 3)   # Resultado: 8\n",
    "print(5 ** 2)   # Resultado: 25\n",
    "print(10 ** 0)  # Resultado: 1\n",
    "print(9 ** 0.5) # Resultado: 3.0 (raíz cuadrada)\n",
    "```\n",
    "\n",
    "### 🎯 Usos comunes de la potencia:\n",
    "\n",
    "* Calcular áreas, volúmenes, crecimientos exponenciales.\n",
    "* Raíces usando exponentes fraccionarios (ej. `**0.5` para raíz cuadrada).\n",
    "* Criptografía, matemática financiera y simulaciones."
   ]
  },
  {
   "cell_type": "code",
   "execution_count": 3,
   "id": "5c4d238c",
   "metadata": {},
   "outputs": [
    {
     "name": "stdout",
     "output_type": "stream",
     "text": [
      "8\n",
      "25\n",
      "1\n",
      "3.0\n"
     ]
    }
   ],
   "source": [
    "print(2 ** 3)   # Resultado: 8\n",
    "print(5 ** 2)   # Resultado: 25\n",
    "print(10 ** 0)  # Resultado: 1\n",
    "print(9 ** 0.5) # Resultado: 3.0 (raíz cuadrada)"
   ]
  },
  {
   "cell_type": "markdown",
   "id": "ba2c4de3",
   "metadata": {},
   "source": [
    "## 🧠 Comparación rápida\n",
    "\n",
    "| Operador | Descripción         | Ejemplo  | Resultado |\n",
    "| -------- | ------------------- | -------- | --------- |\n",
    "| `%`      | Residuo de división | `10 % 3` | `1`       |\n",
    "| `**`     | Potencia            | `2 ** 4` | `16`      |"
   ]
  },
  {
   "cell_type": "markdown",
   "id": "236b8c24",
   "metadata": {},
   "source": [
    "## 🎓 Ejercicio propuesto\n",
    "\n",
    "¿Puedes predecir qué imprimirá este código?\n",
    "\n",
    "```python\n",
    "a = 12\n",
    "b = 5\n",
    "\n",
    "print(\"Residuo:\", a % b)\n",
    "print(\"Potencia:\", b ** 2)\n",
    "```\n"
   ]
  },
  {
   "cell_type": "code",
   "execution_count": 4,
   "id": "92b7610a",
   "metadata": {},
   "outputs": [
    {
     "name": "stdout",
     "output_type": "stream",
     "text": [
      "Residuo: 2\n",
      "Potencia: 25\n"
     ]
    }
   ],
   "source": [
    "a = 12\n",
    "b = 5\n",
    "\n",
    "print(\"Residuo:\", a % b)\n",
    "print(\"Potencia:\", b ** 2)"
   ]
  }
 ],
 "metadata": {
  "kernelspec": {
   "display_name": "Python 3",
   "language": "python",
   "name": "python3"
  },
  "language_info": {
   "codemirror_mode": {
    "name": "ipython",
    "version": 3
   },
   "file_extension": ".py",
   "mimetype": "text/x-python",
   "name": "python",
   "nbconvert_exporter": "python",
   "pygments_lexer": "ipython3",
   "version": "3.12.1"
  }
 },
 "nbformat": 4,
 "nbformat_minor": 5
}
