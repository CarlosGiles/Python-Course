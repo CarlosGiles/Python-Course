{
 "cells": [
  {
   "cell_type": "markdown",
   "id": "2ca5e92e",
   "metadata": {},
   "source": [
    "# 🔁 Iteradores y Generadores en Python – Uso Eficiente de Memoria\n",
    "\n",
    "**Temas**: Qué son – Cómo se usan – Diferencias – Ejemplos prácticos\n",
    "\n",
    "---\n",
    "\n",
    "## 🧠 ¿Qué es un iterador?\n",
    "\n",
    "Un **iterador** es cualquier objeto en Python que implementa los métodos especiales `__iter__()` y `__next__()`. Se puede recorrer uno a uno mediante un bucle, como en `for`.\n",
    "\n",
    "```python\n",
    "lista = [10, 20, 30]\n",
    "iterador = iter(lista)\n",
    "\n",
    "print(next(iterador))  # 10\n",
    "print(next(iterador))  # 20\n",
    "print(next(iterador))  # 30\n",
    "```\n",
    "\n",
    "Si no hay más elementos, se lanza una excepción `StopIteration`.\n",
    "\n",
    "---\n",
    "\n",
    "## 🔄 ¿Qué es un generador?\n",
    "\n",
    "Un **generador** es una **forma especial de crear iteradores**, que produce valores **uno a uno**, **bajo demanda** (lazy evaluation), utilizando la palabra clave `yield`.\n",
    "\n",
    "> 🎯 **Ventaja clave:** consume mucha menos memoria que una lista porque **no almacena todos los elementos a la vez**.\n",
    "\n",
    "---\n",
    "\n",
    "## 🏗️ Crear un generador\n",
    "\n",
    "### ✅ Usando una función con `yield`:\n",
    "\n",
    "```python\n",
    "def contar_hasta(n):\n",
    "    for i in range(1, n + 1):\n",
    "        yield i\n",
    "\n",
    "gen = contar_hasta(3)\n",
    "\n",
    "print(next(gen))  # 1\n",
    "print(next(gen))  # 2\n",
    "print(next(gen))  # 3\n",
    "```\n",
    "\n",
    "Después de que el generador termina, lanza `StopIteration`.\n",
    "\n",
    "---\n",
    "\n",
    "## 🧪 Ejemplo comparativo\n",
    "\n",
    "### Lista:\n",
    "\n",
    "```python\n",
    "numeros = [x * 2 for x in range(1000000)]  # Usa mucha memoria\n",
    "```\n",
    "\n",
    "### Generador:\n",
    "\n",
    "```python\n",
    "numeros = (x * 2 for x in range(1000000))  # Usa muy poca memoria\n",
    "```\n",
    "\n",
    "Los **generadores** no crean la lista completa en memoria, sino que **generan cada valor cuando se necesita**.\n",
    "\n",
    "---\n",
    "\n",
    "## 🔍 ¿Cómo se ven en la práctica?\n",
    "\n",
    "### ✅ Recorrido de generador:\n",
    "\n",
    "```python\n",
    "def pares_hasta(n):\n",
    "    for i in range(n + 1):\n",
    "        if i % 2 == 0:\n",
    "            yield i\n",
    "\n",
    "for numero in pares_hasta(10):\n",
    "    print(numero)\n",
    "```\n",
    "\n",
    "---\n",
    "\n",
    "## 📚 Diferencias clave\n",
    "\n",
    "| Característica        | Iterador (`iter()`)             | Generador (`yield`)           |\n",
    "| --------------------- | ------------------------------- | ----------------------------- |\n",
    "| Estado                | Guarda estado interno           | Guarda estado automáticamente |\n",
    "| Creación              | Manual (`__iter__`, `__next__`) | Función con `yield`           |\n",
    "| Eficiencia de memoria | Buena                           | Excelente (lazy evaluation)   |\n",
    "| Código más legible    | ❌                               | ✅                             |\n",
    "\n",
    "---\n",
    "\n",
    "## 🧠 Cuándo usar generadores\n",
    "\n",
    "✅ Casos ideales:\n",
    "\n",
    "* Archivos grandes\n",
    "* Streams de datos\n",
    "* Resultados infinitos o largos\n",
    "* Memoria limitada\n",
    "\n",
    "---\n",
    "\n",
    "## 🎓 Ejemplo final: Generador infinito\n",
    "\n",
    "```python\n",
    "def contar_infinito():\n",
    "    n = 1\n",
    "    while True:\n",
    "        yield n\n",
    "        n += 1\n",
    "\n",
    "gen = contar_infinito()\n",
    "for i in range(5):\n",
    "    print(next(gen))  # 1, 2, 3, 4, 5\n",
    "```\n",
    "\n",
    "---\n",
    "\n",
    "## 📋 Resumen\n",
    "\n",
    "* Un **iterador** es un objeto que permite recorrer datos secuenciales.\n",
    "* Un **generador** produce valores bajo demanda y **optimiza el uso de memoria**.\n",
    "* Se usa `yield` en vez de `return`.\n",
    "* Ideal para trabajar con grandes volúmenes de datos o secuencias infinitas.\n"
   ]
  },
  {
   "cell_type": "code",
   "execution_count": 3,
   "id": "e8ecd8f9",
   "metadata": {},
   "outputs": [
    {
     "name": "stdout",
     "output_type": "stream",
     "text": [
      "10\n",
      "20\n",
      "30\n"
     ]
    }
   ],
   "source": [
    "lista = [10, 20, 30]\n",
    "iterador = iter(lista)\n",
    "\n",
    "print(next(iterador))  # 10\n",
    "print(next(iterador))  # 20\n",
    "print(next(iterador))  # 30"
   ]
  },
  {
   "cell_type": "code",
   "execution_count": 4,
   "id": "9c88d23a",
   "metadata": {},
   "outputs": [
    {
     "name": "stdout",
     "output_type": "stream",
     "text": [
      "1\n",
      "2\n",
      "3\n"
     ]
    }
   ],
   "source": [
    "def contar_hasta(n):\n",
    "    for i in range(1, n + 1):\n",
    "        yield i\n",
    "\n",
    "gen = contar_hasta(3)\n",
    "\n",
    "print(next(gen))  # 1\n",
    "print(next(gen))  # 2\n",
    "print(next(gen))  # 3"
   ]
  },
  {
   "cell_type": "code",
   "execution_count": 8,
   "id": "9a09eb45",
   "metadata": {},
   "outputs": [
    {
     "name": "stdout",
     "output_type": "stream",
     "text": [
      "0\n",
      "2\n",
      "4\n",
      "6\n",
      "8\n",
      "10\n"
     ]
    }
   ],
   "source": [
    "def pares_hasta(n):\n",
    "    for i in range(n + 1):\n",
    "        if i % 2 == 0:\n",
    "            yield i\n",
    "\n",
    "for numero in pares_hasta(10):\n",
    "    print(numero)"
   ]
  },
  {
   "cell_type": "markdown",
   "id": "952979d5",
   "metadata": {},
   "source": [
    "## Ejemplo de serie fibonacci"
   ]
  },
  {
   "cell_type": "code",
   "execution_count": null,
   "id": "266e3a0e",
   "metadata": {},
   "outputs": [
    {
     "name": "stdout",
     "output_type": "stream",
     "text": [
      "0\n",
      "1\n",
      "1\n",
      "2\n",
      "3\n",
      "5\n",
      "8\n",
      "13\n",
      "21\n",
      "34\n",
      "---Gen---\n",
      " 0\n"
     ]
    },
    {
     "ename": "",
     "evalue": "",
     "output_type": "error",
     "traceback": [
      "\u001b[1;31mEl kernel se bloqueó al ejecutar código en la celda actual o en una celda anterior. \n",
      "\u001b[1;31mRevise el código de las celdas para identificar una posible causa del error. \n",
      "\u001b[1;31mHaga clic <a href='https://aka.ms/vscodeJupyterKernelCrash'>aquí</a> para obtener más información. \n",
      "\u001b[1;31mVea Jupyter <a href='command:jupyter.viewOutput'>log</a> para obtener más detalles."
     ]
    }
   ],
   "source": [
    "def fibonacci(n):\n",
    "    a, b = 0, 1\n",
    "    for _ in range(n):\n",
    "        yield a\n",
    "        a, b = b, a + b\n",
    "\n",
    "# Iterador de Fibonacci\n",
    "for numero in fibonacci(10):\n",
    "    print(numero)\n",
    "\n",
    "# Generador de Fibonacci\n",
    "gen_fibonacci = fibonacci(10)\n",
    "print(\"---Gen---\\n\",next(gen_fibonacci))  # 0"
   ]
  }
 ],
 "metadata": {
  "kernelspec": {
   "display_name": "Python 3",
   "language": "python",
   "name": "python3"
  },
  "language_info": {
   "codemirror_mode": {
    "name": "ipython",
    "version": 3
   },
   "file_extension": ".py",
   "mimetype": "text/x-python",
   "name": "python",
   "nbconvert_exporter": "python",
   "pygments_lexer": "ipython3",
   "version": "3.12.1"
  }
 },
 "nbformat": 4,
 "nbformat_minor": 5
}
