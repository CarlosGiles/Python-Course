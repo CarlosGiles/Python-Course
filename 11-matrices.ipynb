{
 "cells": [
  {
   "cell_type": "markdown",
   "id": "35258256",
   "metadata": {},
   "source": [
    "# 🧮 Introducción a las Matrices en Python\n",
    "\n",
    "**Temas**: Qué son – Cómo se representan – Acceso – Recorrido – Ejemplos"
   ]
  },
  {
   "cell_type": "markdown",
   "id": "a8b61e7b",
   "metadata": {},
   "source": [
    "## ✅ ¿Qué es una matriz?\n",
    "\n",
    "Una **matriz** es una estructura de datos que representa una **tabla de valores** organizados en **filas y columnas**.\n",
    "\n",
    "En matemáticas es una estructura común para trabajar con álgebra lineal, y en programación se usa para representar **datos bidimensionales**, como tableros, imágenes, o datos de sensores."
   ]
  },
  {
   "cell_type": "markdown",
   "id": "3f92de14",
   "metadata": {},
   "source": [
    "## 📌 ¿Cómo se representa una matriz en Python?\n",
    "\n",
    "Python no tiene un tipo nativo de \"matriz\", pero se puede simular con **listas anidadas**:\n",
    "\n",
    "```python\n",
    "matriz = [\n",
    "    [1, 2, 3],    # Fila 0\n",
    "    [4, 5, 6],    # Fila 1\n",
    "    [7, 8, 9]     # Fila 2\n",
    "]\n",
    "```\n",
    "\n",
    "En este ejemplo, la matriz tiene 3 filas y 3 columnas (es una **matriz 3x3**)."
   ]
  },
  {
   "cell_type": "code",
   "execution_count": 2,
   "id": "18ecd2a5",
   "metadata": {},
   "outputs": [
    {
     "data": {
      "text/plain": [
       "[[1, 2, 3], [4, 5, 6], [7, 8, 9]]"
      ]
     },
     "execution_count": 2,
     "metadata": {},
     "output_type": "execute_result"
    }
   ],
   "source": [
    "matriz = [\n",
    "#Col 0  1  2\n",
    "    [1, 2, 3],    # Fila 0\n",
    "    [4, 5, 6],    # Fila 1\n",
    "    [7, 8, 9]     # Fila 2\n",
    "]\n",
    "matriz"
   ]
  },
  {
   "cell_type": "markdown",
   "id": "4c21bc8b",
   "metadata": {},
   "source": [
    "## 🔍 Acceder a elementos\n",
    "\n",
    "Se accede a los elementos usando **doble índice**: `matriz[fila][columna]`.\n",
    "\n",
    "```python\n",
    "matriz = [\n",
    "    [1, 2, 3],    # Fila 0\n",
    "    [4, 5, 6],    # Fila 1\n",
    "    [7, 8, 9]     # Fila 2\n",
    "]\n",
    "```\n",
    "\n",
    "```python\n",
    "print(matriz[0][1])  # 2 (fila 0, columna 1)\n",
    "print(matriz[2][2])  # 9\n",
    "```"
   ]
  },
  {
   "cell_type": "code",
   "execution_count": 3,
   "id": "c163778a",
   "metadata": {},
   "outputs": [
    {
     "name": "stdout",
     "output_type": "stream",
     "text": [
      "2\n",
      "9\n"
     ]
    }
   ],
   "source": [
    "print(matriz[0][1])  # 2 (fila 0, columna 1)\n",
    "print(matriz[2][2])  # 9"
   ]
  },
  {
   "cell_type": "markdown",
   "id": "aadce748",
   "metadata": {},
   "source": [
    "## 🔁 Recorrer una matriz\n",
    "\n",
    "### 🔸 Usando dos bucles anidados:\n",
    "\n",
    "```python\n",
    "for fila in matriz:\n",
    "    for elemento in fila:\n",
    "        print(elemento, end=\" \")\n",
    "    print()\n",
    "```\n",
    "\n",
    "**Salida:**\n",
    "\n",
    "```\n",
    "1 2 3 \n",
    "4 5 6 \n",
    "7 8 9\n",
    "```"
   ]
  },
  {
   "cell_type": "code",
   "execution_count": 4,
   "id": "196c772b",
   "metadata": {},
   "outputs": [
    {
     "name": "stdout",
     "output_type": "stream",
     "text": [
      "1 2 3 \n",
      "4 5 6 \n",
      "7 8 9 \n"
     ]
    }
   ],
   "source": [
    "for fila in matriz:\n",
    "    for elemento in fila:\n",
    "        print(elemento, end=\" \")\n",
    "    print()"
   ]
  },
  {
   "cell_type": "markdown",
   "id": "fe061e23",
   "metadata": {},
   "source": [
    "## ✏️ Modificar un elemento\n",
    "\n",
    "Como las listas son mutables, puedes cambiar un valor así:\n",
    "\n",
    "```python\n",
    "matriz[1][1] = 99\n",
    "print(matriz[1])  # [4, 99, 6]\n",
    "```"
   ]
  },
  {
   "cell_type": "code",
   "execution_count": 6,
   "id": "d2f13adc",
   "metadata": {},
   "outputs": [
    {
     "name": "stdout",
     "output_type": "stream",
     "text": [
      "[4, 99, 6]\n"
     ]
    },
    {
     "data": {
      "text/plain": [
       "[[1, 2, 3], [4, 99, 6], [7, 8, 9]]"
      ]
     },
     "execution_count": 6,
     "metadata": {},
     "output_type": "execute_result"
    }
   ],
   "source": [
    "matriz[1][1] = 99\n",
    "print(matriz[1])  # [4, 99, 6]\n",
    "matriz"
   ]
  },
  {
   "cell_type": "markdown",
   "id": "7413502d",
   "metadata": {},
   "source": [
    "## 📚 Crear una matriz vacía o inicializada\n",
    "\n",
    "### Matriz 3x3 con ceros:\n",
    "\n",
    "```python\n",
    "matriz = [[0 for _ in range(3)] for _ in range(3)]\n",
    "```\n",
    "\n",
    "---\n",
    "\n",
    "## 🔧 Usar librerías para trabajar con matrices\n",
    "\n",
    "Aunque puedes usar listas anidadas, si vas a hacer operaciones matemáticas, **lo mejor es usar NumPy**:\n",
    "\n",
    "```python\n",
    "import numpy as np\n",
    "\n",
    "matriz = np.array([[1, 2], [3, 4]])\n",
    "print(matriz + 1)   # Suma 1 a todos los elementos\n",
    "print(matriz.T)     # Transpuesta\n",
    "```\n",
    "\n",
    "---\n",
    "\n",
    "## 📋 Resumen\n",
    "\n",
    "| Concepto        | Ejemplo                   |\n",
    "| --------------- | ------------------------- |\n",
    "| Crear matriz    | `[[1, 2], [3, 4]]`        |\n",
    "| Acceder valor   | `matriz[0][1]` → `2`      |\n",
    "| Modificar valor | `matriz[1][0] = 10`       |\n",
    "| Recorrer        | Dos bucles `for` anidados |\n",
    "| Librería útil   | `numpy`                   |\n",
    "\n",
    "---\n",
    "\n",
    "## 🎓 ¿Cuándo usar matrices?\n",
    "\n",
    "* Para representar tableros de juegos (como Sudoku o ajedrez).\n",
    "* Para procesamiento de imágenes.\n",
    "* En modelos matemáticos o científicos.\n",
    "* En lógica de datos tabulares sin necesidad de una base de datos."
   ]
  }
 ],
 "metadata": {
  "kernelspec": {
   "display_name": "Python 3",
   "language": "python",
   "name": "python3"
  },
  "language_info": {
   "codemirror_mode": {
    "name": "ipython",
    "version": 3
   },
   "file_extension": ".py",
   "mimetype": "text/x-python",
   "name": "python",
   "nbconvert_exporter": "python",
   "pygments_lexer": "ipython3",
   "version": "3.12.1"
  }
 },
 "nbformat": 4,
 "nbformat_minor": 5
}
